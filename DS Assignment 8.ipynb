{
 "cells": [
  {
   "cell_type": "code",
   "execution_count": 90,
   "metadata": {},
   "outputs": [],
   "source": [
    "import pandas as pd\n",
    "import numpy as np\n"
   ]
  },
  {
   "cell_type": "code",
   "execution_count": 91,
   "metadata": {},
   "outputs": [],
   "source": [
    "games = pd.read_csv('Game_Nodes.csv', sep=\",\")"
   ]
  },
  {
   "cell_type": "code",
   "execution_count": 92,
   "metadata": {},
   "outputs": [
    {
     "data": {
      "text/html": [
       "<div>\n",
       "<style scoped>\n",
       "    .dataframe tbody tr th:only-of-type {\n",
       "        vertical-align: middle;\n",
       "    }\n",
       "\n",
       "    .dataframe tbody tr th {\n",
       "        vertical-align: top;\n",
       "    }\n",
       "\n",
       "    .dataframe thead th {\n",
       "        text-align: right;\n",
       "    }\n",
       "</style>\n",
       "<table border=\"1\" class=\"dataframe\">\n",
       "  <thead>\n",
       "    <tr style=\"text-align: right;\">\n",
       "      <th></th>\n",
       "      <th>Unnamed: 0</th>\n",
       "      <th>Black</th>\n",
       "      <th>BlackElo</th>\n",
       "      <th>Date</th>\n",
       "      <th>ECO</th>\n",
       "      <th>Event</th>\n",
       "      <th>EventDate</th>\n",
       "      <th>GameNumber</th>\n",
       "      <th>HalfMoves</th>\n",
       "      <th>Moves</th>\n",
       "      <th>Opening</th>\n",
       "      <th>Result</th>\n",
       "      <th>Round</th>\n",
       "      <th>Site</th>\n",
       "      <th>White</th>\n",
       "      <th>WhiteElo</th>\n",
       "    </tr>\n",
       "  </thead>\n",
       "  <tbody>\n",
       "    <tr>\n",
       "      <th>0</th>\n",
       "      <td>0</td>\n",
       "      <td>Steinitz  Wilhelm</td>\n",
       "      <td>0</td>\n",
       "      <td>1886-01-11</td>\n",
       "      <td>D11</td>\n",
       "      <td>World Championship 1st</td>\n",
       "      <td>1886.01.11</td>\n",
       "      <td>1</td>\n",
       "      <td>92</td>\n",
       "      <td>46</td>\n",
       "      <td>Queen's Gambit Declined Slav</td>\n",
       "      <td>Black</td>\n",
       "      <td>1</td>\n",
       "      <td>USA</td>\n",
       "      <td>Zukertort  Johannes H</td>\n",
       "      <td>0</td>\n",
       "    </tr>\n",
       "    <tr>\n",
       "      <th>1</th>\n",
       "      <td>1</td>\n",
       "      <td>Zukertort  Johannes H</td>\n",
       "      <td>0</td>\n",
       "      <td>1886-01-13</td>\n",
       "      <td>C47</td>\n",
       "      <td>World Championship 1st</td>\n",
       "      <td>1886.01.11</td>\n",
       "      <td>2</td>\n",
       "      <td>92</td>\n",
       "      <td>46</td>\n",
       "      <td>Four Knights</td>\n",
       "      <td>Black</td>\n",
       "      <td>2</td>\n",
       "      <td>USA</td>\n",
       "      <td>Steinitz  Wilhelm</td>\n",
       "      <td>0</td>\n",
       "    </tr>\n",
       "    <tr>\n",
       "      <th>2</th>\n",
       "      <td>2</td>\n",
       "      <td>Steinitz  Wilhelm</td>\n",
       "      <td>0</td>\n",
       "      <td>1886-01-15</td>\n",
       "      <td>D10</td>\n",
       "      <td>World Championship 1st</td>\n",
       "      <td>1886.01.11</td>\n",
       "      <td>3</td>\n",
       "      <td>93</td>\n",
       "      <td>46</td>\n",
       "      <td>Queen's Gambit Declined Slav</td>\n",
       "      <td>White</td>\n",
       "      <td>3</td>\n",
       "      <td>USA</td>\n",
       "      <td>Zukertort  Johannes H</td>\n",
       "      <td>0</td>\n",
       "    </tr>\n",
       "    <tr>\n",
       "      <th>3</th>\n",
       "      <td>3</td>\n",
       "      <td>Zukertort  Johannes H</td>\n",
       "      <td>0</td>\n",
       "      <td>1886-01-18</td>\n",
       "      <td>C67</td>\n",
       "      <td>World Championship 1st</td>\n",
       "      <td>1886.01.11</td>\n",
       "      <td>4</td>\n",
       "      <td>78</td>\n",
       "      <td>39</td>\n",
       "      <td>Ruy Lopez</td>\n",
       "      <td>Black</td>\n",
       "      <td>4</td>\n",
       "      <td>USA</td>\n",
       "      <td>Steinitz  Wilhelm</td>\n",
       "      <td>0</td>\n",
       "    </tr>\n",
       "    <tr>\n",
       "      <th>4</th>\n",
       "      <td>4</td>\n",
       "      <td>Steinitz  Wilhelm</td>\n",
       "      <td>0</td>\n",
       "      <td>1886-01-20</td>\n",
       "      <td>D10</td>\n",
       "      <td>World Championship 1st</td>\n",
       "      <td>1886.01.11</td>\n",
       "      <td>5</td>\n",
       "      <td>63</td>\n",
       "      <td>31</td>\n",
       "      <td>Queen's Gambit Declined Slav</td>\n",
       "      <td>White</td>\n",
       "      <td>5</td>\n",
       "      <td>USA</td>\n",
       "      <td>Zukertort  Johannes H</td>\n",
       "      <td>0</td>\n",
       "    </tr>\n",
       "  </tbody>\n",
       "</table>\n",
       "</div>"
      ],
      "text/plain": [
       "   Unnamed: 0                  Black  BlackElo        Date  ECO  \\\n",
       "0           0      Steinitz  Wilhelm         0  1886-01-11  D11   \n",
       "1           1  Zukertort  Johannes H         0  1886-01-13  C47   \n",
       "2           2      Steinitz  Wilhelm         0  1886-01-15  D10   \n",
       "3           3  Zukertort  Johannes H         0  1886-01-18  C67   \n",
       "4           4      Steinitz  Wilhelm         0  1886-01-20  D10   \n",
       "\n",
       "                    Event   EventDate  GameNumber  HalfMoves  Moves  \\\n",
       "0  World Championship 1st  1886.01.11           1         92     46   \n",
       "1  World Championship 1st  1886.01.11           2         92     46   \n",
       "2  World Championship 1st  1886.01.11           3         93     46   \n",
       "3  World Championship 1st  1886.01.11           4         78     39   \n",
       "4  World Championship 1st  1886.01.11           5         63     31   \n",
       "\n",
       "                        Opening Result  Round Site                  White  \\\n",
       "0  Queen's Gambit Declined Slav  Black      1  USA  Zukertort  Johannes H   \n",
       "1                  Four Knights  Black      2  USA      Steinitz  Wilhelm   \n",
       "2  Queen's Gambit Declined Slav  White      3  USA  Zukertort  Johannes H   \n",
       "3                     Ruy Lopez  Black      4  USA      Steinitz  Wilhelm   \n",
       "4  Queen's Gambit Declined Slav  White      5  USA  Zukertort  Johannes H   \n",
       "\n",
       "   WhiteElo  \n",
       "0         0  \n",
       "1         0  \n",
       "2         0  \n",
       "3         0  \n",
       "4         0  "
      ]
     },
     "execution_count": 92,
     "metadata": {},
     "output_type": "execute_result"
    }
   ],
   "source": [
    "games.head()"
   ]
  },
  {
   "attachments": {},
   "cell_type": "markdown",
   "metadata": {},
   "source": [
    "# Confidence Interval voor Moves"
   ]
  },
  {
   "cell_type": "code",
   "execution_count": 93,
   "metadata": {},
   "outputs": [],
   "source": [
    "moves = games['Moves']"
   ]
  },
  {
   "cell_type": "code",
   "execution_count": 94,
   "metadata": {},
   "outputs": [],
   "source": [
    "import scipy.stats as st"
   ]
  },
  {
   "cell_type": "code",
   "execution_count": 95,
   "metadata": {},
   "outputs": [
    {
     "data": {
      "text/plain": [
       "(42.67440372821062, 44.767116739625635)"
      ]
     },
     "execution_count": 95,
     "metadata": {},
     "output_type": "execute_result"
    }
   ],
   "source": [
    "st.t.interval(0.90,len(moves)-1,loc=moves.mean(),scale=st.sem(moves))"
   ]
  },
  {
   "cell_type": "code",
   "execution_count": 96,
   "metadata": {},
   "outputs": [
    {
     "data": {
      "text/plain": [
       "(42.47343031596106, 44.968090151875195)"
      ]
     },
     "execution_count": 96,
     "metadata": {},
     "output_type": "execute_result"
    }
   ],
   "source": [
    "st.t.interval(0.95,len(moves)-1,loc=moves.mean(),scale=st.sem(moves))"
   ]
  },
  {
   "cell_type": "code",
   "execution_count": 97,
   "metadata": {},
   "outputs": [
    {
     "data": {
      "text/plain": [
       "(42.07981068899629, 45.361709778839966)"
      ]
     },
     "execution_count": 97,
     "metadata": {},
     "output_type": "execute_result"
    }
   ],
   "source": [
    "st.t.interval(0.99,len(moves)-1,loc=moves.mean(),scale=st.sem(moves))"
   ]
  },
  {
   "cell_type": "code",
   "execution_count": 98,
   "metadata": {},
   "outputs": [
    {
     "data": {
      "text/plain": [
       "(41.23448193793594, 46.207038529900316)"
      ]
     },
     "execution_count": 98,
     "metadata": {},
     "output_type": "execute_result"
    }
   ],
   "source": [
    "st.t.interval(0.9999,len(moves)-1,loc=moves.mean(),scale=st.sem(moves))"
   ]
  },
  {
   "attachments": {},
   "cell_type": "markdown",
   "metadata": {},
   "source": [
    "Ik heb het gevoel dat de interval steeds accurater wordt naarmate de confidence hoger wordt. De confidence interval wil zeggen dat de kans x% is dat de waarde van de parameter binnen de interval ligt. Hoe hoger de confidence, hoe kleiner de kans dat de waarde van de parameter buiten de interval ligt.\n",
    "\n",
    "Bij mij wordt de interval steeds groter naarmate de confidence hoger wordt. Toch blijft de interval niet erg groot en zit er minimaal verschil in de 90% en 99.99%."
   ]
  },
  {
   "attachments": {},
   "cell_type": "markdown",
   "metadata": {},
   "source": [
    "## 95% confidence interval op eerste 10% van moves"
   ]
  },
  {
   "cell_type": "code",
   "execution_count": 99,
   "metadata": {},
   "outputs": [
    {
     "data": {
      "text/plain": [
       "684"
      ]
     },
     "execution_count": 99,
     "metadata": {},
     "output_type": "execute_result"
    }
   ],
   "source": [
    "moves.size"
   ]
  },
  {
   "cell_type": "code",
   "execution_count": 100,
   "metadata": {},
   "outputs": [],
   "source": [
    "movesTenPercent = moves.loc[:moves.size*0.1]"
   ]
  },
  {
   "attachments": {},
   "cell_type": "markdown",
   "metadata": {},
   "source": [
    "Hier zien we dat de size nu ongeveer 10% is van de totale lijst aan moves."
   ]
  },
  {
   "cell_type": "code",
   "execution_count": 101,
   "metadata": {},
   "outputs": [
    {
     "data": {
      "text/plain": [
       "69"
      ]
     },
     "execution_count": 101,
     "metadata": {},
     "output_type": "execute_result"
    }
   ],
   "source": [
    "movesTenPercent.size"
   ]
  },
  {
   "cell_type": "code",
   "execution_count": 102,
   "metadata": {},
   "outputs": [
    {
     "data": {
      "text/plain": [
       "(36.50997161600323, 43.63495592022866)"
      ]
     },
     "execution_count": 102,
     "metadata": {},
     "output_type": "execute_result"
    }
   ],
   "source": [
    "st.t.interval(0.95,len(movesTenPercent)-1,loc=movesTenPercent.mean(),scale=st.sem(movesTenPercent))"
   ]
  },
  {
   "attachments": {},
   "cell_type": "markdown",
   "metadata": {},
   "source": [
    "Hier is goed te zien dat de interval erg toeneemt t.o.v. de 95% confidence interval over de gehele lijst. Bij de gehele lijst was dit tussen de 42.5 en 44.9 en nu 36.5 en 43.63."
   ]
  },
  {
   "attachments": {},
   "cell_type": "markdown",
   "metadata": {},
   "source": [
    "# Confidence Interval voor Black Elo > 0"
   ]
  },
  {
   "cell_type": "code",
   "execution_count": 103,
   "metadata": {},
   "outputs": [],
   "source": [
    "eloAboveZero = games['BlackElo'][games['BlackElo'] > 0]"
   ]
  },
  {
   "cell_type": "code",
   "execution_count": 104,
   "metadata": {},
   "outputs": [
    {
     "data": {
      "text/plain": [
       "566    2785\n",
       "567    2785\n",
       "568    2660\n",
       "569    2785\n",
       "570    2660\n",
       "Name: BlackElo, dtype: int64"
      ]
     },
     "execution_count": 104,
     "metadata": {},
     "output_type": "execute_result"
    }
   ],
   "source": [
    "eloAboveZero.head()"
   ]
  },
  {
   "cell_type": "code",
   "execution_count": 105,
   "metadata": {},
   "outputs": [
    {
     "data": {
      "text/plain": [
       "(2702.243011292193, 2712.163768368824)"
      ]
     },
     "execution_count": 105,
     "metadata": {},
     "output_type": "execute_result"
    }
   ],
   "source": [
    "st.t.interval(0.90,len(eloAboveZero)-1,loc=eloAboveZero.mean(),scale=st.sem(eloAboveZero))"
   ]
  },
  {
   "cell_type": "code",
   "execution_count": 106,
   "metadata": {},
   "outputs": [
    {
     "data": {
      "text/plain": [
       "(2701.27825205047, 2713.128527610547)"
      ]
     },
     "execution_count": 106,
     "metadata": {},
     "output_type": "execute_result"
    }
   ],
   "source": [
    "st.t.interval(0.95,len(eloAboveZero)-1,loc=eloAboveZero.mean(),scale=st.sem(eloAboveZero))"
   ]
  },
  {
   "cell_type": "code",
   "execution_count": 107,
   "metadata": {},
   "outputs": [
    {
     "data": {
      "text/plain": [
       "(2699.369303396654, 2715.0374762643632)"
      ]
     },
     "execution_count": 107,
     "metadata": {},
     "output_type": "execute_result"
    }
   ],
   "source": [
    "st.t.interval(0.99,len(eloAboveZero)-1,loc=eloAboveZero.mean(),scale=st.sem(eloAboveZero))"
   ]
  },
  {
   "cell_type": "code",
   "execution_count": 108,
   "metadata": {},
   "outputs": [
    {
     "data": {
      "text/plain": [
       "(2695.1494945950953, 2719.2572850659217)"
      ]
     },
     "execution_count": 108,
     "metadata": {},
     "output_type": "execute_result"
    }
   ],
   "source": [
    "st.t.interval(0.9999,len(eloAboveZero)-1,loc=eloAboveZero.mean(),scale=st.sem(eloAboveZero))"
   ]
  },
  {
   "cell_type": "code",
   "execution_count": 109,
   "metadata": {},
   "outputs": [
    {
     "data": {
      "text/plain": [
       "2785"
      ]
     },
     "execution_count": 109,
     "metadata": {},
     "output_type": "execute_result"
    }
   ],
   "source": [
    "eloAboveZero.max()"
   ]
  },
  {
   "cell_type": "code",
   "execution_count": 110,
   "metadata": {},
   "outputs": [
    {
     "data": {
      "text/plain": [
       "2660"
      ]
     },
     "execution_count": 110,
     "metadata": {},
     "output_type": "execute_result"
    }
   ],
   "source": [
    "eloAboveZero.min()"
   ]
  },
  {
   "attachments": {},
   "cell_type": "markdown",
   "metadata": {},
   "source": [
    "Ook hier zien we dat de interval niet erg groot is, deze neemt naarmate de confidence hoger wordt uiteraard wel wat toe. De stijging is alleen minimaal als we kijken naar de range die van 2660-2785 loopt en de interval 2695-2719."
   ]
  },
  {
   "attachments": {},
   "cell_type": "markdown",
   "metadata": {},
   "source": [
    "## 95% confidence interval op eerste 10% van Black Elo"
   ]
  },
  {
   "cell_type": "code",
   "execution_count": 111,
   "metadata": {},
   "outputs": [
    {
     "data": {
      "text/plain": [
       "118"
      ]
     },
     "execution_count": 111,
     "metadata": {},
     "output_type": "execute_result"
    }
   ],
   "source": [
    "eloAboveZero.size"
   ]
  },
  {
   "cell_type": "code",
   "execution_count": 112,
   "metadata": {},
   "outputs": [
    {
     "data": {
      "text/plain": [
       "566    2785\n",
       "567    2785\n",
       "568    2660\n",
       "569    2785\n",
       "570    2660\n",
       "       ... \n",
       "679    2705\n",
       "680    2715\n",
       "681    2705\n",
       "682    2715\n",
       "683    2705\n",
       "Name: BlackElo, Length: 118, dtype: int64"
      ]
     },
     "execution_count": 112,
     "metadata": {},
     "output_type": "execute_result"
    }
   ],
   "source": [
    "eloAboveZero.head(120)"
   ]
  },
  {
   "cell_type": "code",
   "execution_count": 113,
   "metadata": {},
   "outputs": [],
   "source": [
    "eloAboveZeroTenPercent = eloAboveZero.loc[566:577]"
   ]
  },
  {
   "cell_type": "code",
   "execution_count": 114,
   "metadata": {},
   "outputs": [
    {
     "data": {
      "text/plain": [
       "566    2785\n",
       "567    2785\n",
       "568    2660\n",
       "569    2785\n",
       "570    2660\n",
       "Name: BlackElo, dtype: int64"
      ]
     },
     "execution_count": 114,
     "metadata": {},
     "output_type": "execute_result"
    }
   ],
   "source": [
    "eloAboveZeroTenPercent.head()"
   ]
  },
  {
   "cell_type": "code",
   "execution_count": 115,
   "metadata": {},
   "outputs": [
    {
     "data": {
      "text/plain": [
       "12"
      ]
     },
     "execution_count": 115,
     "metadata": {},
     "output_type": "execute_result"
    }
   ],
   "source": [
    "eloAboveZeroTenPercent.size"
   ]
  },
  {
   "cell_type": "code",
   "execution_count": 116,
   "metadata": {},
   "outputs": [
    {
     "data": {
      "text/plain": [
       "(2692.020409705077, 2773.812923628256)"
      ]
     },
     "execution_count": 116,
     "metadata": {},
     "output_type": "execute_result"
    }
   ],
   "source": [
    "st.t.interval(0.95,len(eloAboveZeroTenPercent)-1,loc=eloAboveZeroTenPercent.mean(),scale=st.sem(eloAboveZeroTenPercent))"
   ]
  },
  {
   "cell_type": "code",
   "execution_count": 117,
   "metadata": {},
   "outputs": [
    {
     "data": {
      "text/plain": [
       "(2701.27825205047, 2713.128527610547)"
      ]
     },
     "execution_count": 117,
     "metadata": {},
     "output_type": "execute_result"
    }
   ],
   "source": [
    "st.t.interval(0.95,len(eloAboveZero)-1,loc=eloAboveZero.mean(),scale=st.sem(eloAboveZero))"
   ]
  },
  {
   "attachments": {},
   "cell_type": "markdown",
   "metadata": {},
   "source": [
    "Ook hier is goed te zijn dat de interval erg groot is als we alleen de eerste 10% van de lijst pakken. De interval is eerst 2692-2773 en bij de volledige lijst is dat 2701-2713. Dit wil zeggen dat de interval van de eerste 10% niet representatief is voor de volledige lijst."
   ]
  }
 ],
 "metadata": {
  "kernelspec": {
   "display_name": "base",
   "language": "python",
   "name": "python3"
  },
  "language_info": {
   "codemirror_mode": {
    "name": "ipython",
    "version": 3
   },
   "file_extension": ".py",
   "mimetype": "text/x-python",
   "name": "python",
   "nbconvert_exporter": "python",
   "pygments_lexer": "ipython3",
   "version": "3.9.7"
  },
  "orig_nbformat": 4,
  "vscode": {
   "interpreter": {
    "hash": "ad2bdc8ecc057115af97d19610ffacc2b4e99fae6737bb82f5d7fb13d2f2c186"
   }
  }
 },
 "nbformat": 4,
 "nbformat_minor": 2
}
