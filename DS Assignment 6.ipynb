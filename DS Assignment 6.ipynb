{
 "cells": [
  {
   "cell_type": "code",
   "execution_count": 33,
   "id": "ffd4a72c",
   "metadata": {},
   "outputs": [],
   "source": [
    "import pandas as pd\n",
    "import seaborn as sns"
   ]
  },
  {
   "cell_type": "code",
   "execution_count": 34,
   "id": "31bc550c",
   "metadata": {},
   "outputs": [],
   "source": [
    "games = pd.read_csv('Game_Nodes.csv', sep=\",\")"
   ]
  },
  {
   "cell_type": "code",
   "execution_count": 35,
   "id": "11001017",
   "metadata": {},
   "outputs": [
    {
     "data": {
      "text/html": [
       "<div>\n",
       "<style scoped>\n",
       "    .dataframe tbody tr th:only-of-type {\n",
       "        vertical-align: middle;\n",
       "    }\n",
       "\n",
       "    .dataframe tbody tr th {\n",
       "        vertical-align: top;\n",
       "    }\n",
       "\n",
       "    .dataframe thead th {\n",
       "        text-align: right;\n",
       "    }\n",
       "</style>\n",
       "<table border=\"1\" class=\"dataframe\">\n",
       "  <thead>\n",
       "    <tr style=\"text-align: right;\">\n",
       "      <th></th>\n",
       "      <th>Unnamed: 0</th>\n",
       "      <th>Black</th>\n",
       "      <th>BlackElo</th>\n",
       "      <th>Date</th>\n",
       "      <th>ECO</th>\n",
       "      <th>Event</th>\n",
       "      <th>EventDate</th>\n",
       "      <th>GameNumber</th>\n",
       "      <th>HalfMoves</th>\n",
       "      <th>Moves</th>\n",
       "      <th>Opening</th>\n",
       "      <th>Result</th>\n",
       "      <th>Round</th>\n",
       "      <th>Site</th>\n",
       "      <th>White</th>\n",
       "      <th>WhiteElo</th>\n",
       "    </tr>\n",
       "  </thead>\n",
       "  <tbody>\n",
       "    <tr>\n",
       "      <th>0</th>\n",
       "      <td>0</td>\n",
       "      <td>Steinitz  Wilhelm</td>\n",
       "      <td>0</td>\n",
       "      <td>1886-01-11</td>\n",
       "      <td>D11</td>\n",
       "      <td>World Championship 1st</td>\n",
       "      <td>1886.01.11</td>\n",
       "      <td>1</td>\n",
       "      <td>92</td>\n",
       "      <td>46</td>\n",
       "      <td>Queen's Gambit Declined Slav</td>\n",
       "      <td>Black</td>\n",
       "      <td>1</td>\n",
       "      <td>USA</td>\n",
       "      <td>Zukertort  Johannes H</td>\n",
       "      <td>0</td>\n",
       "    </tr>\n",
       "    <tr>\n",
       "      <th>1</th>\n",
       "      <td>1</td>\n",
       "      <td>Zukertort  Johannes H</td>\n",
       "      <td>0</td>\n",
       "      <td>1886-01-13</td>\n",
       "      <td>C47</td>\n",
       "      <td>World Championship 1st</td>\n",
       "      <td>1886.01.11</td>\n",
       "      <td>2</td>\n",
       "      <td>92</td>\n",
       "      <td>46</td>\n",
       "      <td>Four Knights</td>\n",
       "      <td>Black</td>\n",
       "      <td>2</td>\n",
       "      <td>USA</td>\n",
       "      <td>Steinitz  Wilhelm</td>\n",
       "      <td>0</td>\n",
       "    </tr>\n",
       "    <tr>\n",
       "      <th>2</th>\n",
       "      <td>2</td>\n",
       "      <td>Steinitz  Wilhelm</td>\n",
       "      <td>0</td>\n",
       "      <td>1886-01-15</td>\n",
       "      <td>D10</td>\n",
       "      <td>World Championship 1st</td>\n",
       "      <td>1886.01.11</td>\n",
       "      <td>3</td>\n",
       "      <td>93</td>\n",
       "      <td>46</td>\n",
       "      <td>Queen's Gambit Declined Slav</td>\n",
       "      <td>White</td>\n",
       "      <td>3</td>\n",
       "      <td>USA</td>\n",
       "      <td>Zukertort  Johannes H</td>\n",
       "      <td>0</td>\n",
       "    </tr>\n",
       "    <tr>\n",
       "      <th>3</th>\n",
       "      <td>3</td>\n",
       "      <td>Zukertort  Johannes H</td>\n",
       "      <td>0</td>\n",
       "      <td>1886-01-18</td>\n",
       "      <td>C67</td>\n",
       "      <td>World Championship 1st</td>\n",
       "      <td>1886.01.11</td>\n",
       "      <td>4</td>\n",
       "      <td>78</td>\n",
       "      <td>39</td>\n",
       "      <td>Ruy Lopez</td>\n",
       "      <td>Black</td>\n",
       "      <td>4</td>\n",
       "      <td>USA</td>\n",
       "      <td>Steinitz  Wilhelm</td>\n",
       "      <td>0</td>\n",
       "    </tr>\n",
       "    <tr>\n",
       "      <th>4</th>\n",
       "      <td>4</td>\n",
       "      <td>Steinitz  Wilhelm</td>\n",
       "      <td>0</td>\n",
       "      <td>1886-01-20</td>\n",
       "      <td>D10</td>\n",
       "      <td>World Championship 1st</td>\n",
       "      <td>1886.01.11</td>\n",
       "      <td>5</td>\n",
       "      <td>63</td>\n",
       "      <td>31</td>\n",
       "      <td>Queen's Gambit Declined Slav</td>\n",
       "      <td>White</td>\n",
       "      <td>5</td>\n",
       "      <td>USA</td>\n",
       "      <td>Zukertort  Johannes H</td>\n",
       "      <td>0</td>\n",
       "    </tr>\n",
       "  </tbody>\n",
       "</table>\n",
       "</div>"
      ],
      "text/plain": [
       "   Unnamed: 0                  Black  BlackElo        Date  ECO  \\\n",
       "0           0      Steinitz  Wilhelm         0  1886-01-11  D11   \n",
       "1           1  Zukertort  Johannes H         0  1886-01-13  C47   \n",
       "2           2      Steinitz  Wilhelm         0  1886-01-15  D10   \n",
       "3           3  Zukertort  Johannes H         0  1886-01-18  C67   \n",
       "4           4      Steinitz  Wilhelm         0  1886-01-20  D10   \n",
       "\n",
       "                    Event   EventDate  GameNumber  HalfMoves  Moves  \\\n",
       "0  World Championship 1st  1886.01.11           1         92     46   \n",
       "1  World Championship 1st  1886.01.11           2         92     46   \n",
       "2  World Championship 1st  1886.01.11           3         93     46   \n",
       "3  World Championship 1st  1886.01.11           4         78     39   \n",
       "4  World Championship 1st  1886.01.11           5         63     31   \n",
       "\n",
       "                        Opening Result  Round Site                  White  \\\n",
       "0  Queen's Gambit Declined Slav  Black      1  USA  Zukertort  Johannes H   \n",
       "1                  Four Knights  Black      2  USA      Steinitz  Wilhelm   \n",
       "2  Queen's Gambit Declined Slav  White      3  USA  Zukertort  Johannes H   \n",
       "3                     Ruy Lopez  Black      4  USA      Steinitz  Wilhelm   \n",
       "4  Queen's Gambit Declined Slav  White      5  USA  Zukertort  Johannes H   \n",
       "\n",
       "   WhiteElo  \n",
       "0         0  \n",
       "1         0  \n",
       "2         0  \n",
       "3         0  \n",
       "4         0  "
      ]
     },
     "execution_count": 35,
     "metadata": {},
     "output_type": "execute_result"
    }
   ],
   "source": [
    "games.head()"
   ]
  },
  {
   "cell_type": "markdown",
   "id": "5fafb4d7",
   "metadata": {},
   "source": [
    "# Alle categories vaststellen"
   ]
  },
  {
   "cell_type": "code",
   "execution_count": 36,
   "id": "71f5d448",
   "metadata": {},
   "outputs": [],
   "source": [
    "categories = games[['Event', 'Site', 'BlackElo','Moves']]"
   ]
  },
  {
   "cell_type": "code",
   "execution_count": 37,
   "id": "a8171f1a",
   "metadata": {},
   "outputs": [
    {
     "data": {
      "text/html": [
       "<div>\n",
       "<style scoped>\n",
       "    .dataframe tbody tr th:only-of-type {\n",
       "        vertical-align: middle;\n",
       "    }\n",
       "\n",
       "    .dataframe tbody tr th {\n",
       "        vertical-align: top;\n",
       "    }\n",
       "\n",
       "    .dataframe thead th {\n",
       "        text-align: right;\n",
       "    }\n",
       "</style>\n",
       "<table border=\"1\" class=\"dataframe\">\n",
       "  <thead>\n",
       "    <tr style=\"text-align: right;\">\n",
       "      <th></th>\n",
       "      <th>Event</th>\n",
       "      <th>Site</th>\n",
       "      <th>BlackElo</th>\n",
       "      <th>Moves</th>\n",
       "    </tr>\n",
       "  </thead>\n",
       "  <tbody>\n",
       "    <tr>\n",
       "      <th>566</th>\n",
       "      <td>World Championship 28th</td>\n",
       "      <td>Reykjavik ISL</td>\n",
       "      <td>2785</td>\n",
       "      <td>55</td>\n",
       "    </tr>\n",
       "    <tr>\n",
       "      <th>575</th>\n",
       "      <td>World Championship 28th</td>\n",
       "      <td>Reykjavik ISL</td>\n",
       "      <td>2785</td>\n",
       "      <td>30</td>\n",
       "    </tr>\n",
       "    <tr>\n",
       "      <th>571</th>\n",
       "      <td>World Championship 28th</td>\n",
       "      <td>Reykjavik ISL</td>\n",
       "      <td>2785</td>\n",
       "      <td>48</td>\n",
       "    </tr>\n",
       "    <tr>\n",
       "      <th>577</th>\n",
       "      <td>World Championship 28th</td>\n",
       "      <td>Reykjavik ISL</td>\n",
       "      <td>2785</td>\n",
       "      <td>74</td>\n",
       "    </tr>\n",
       "    <tr>\n",
       "      <th>573</th>\n",
       "      <td>World Championship 28th</td>\n",
       "      <td>Reykjavik ISL</td>\n",
       "      <td>2785</td>\n",
       "      <td>29</td>\n",
       "    </tr>\n",
       "    <tr>\n",
       "      <th>569</th>\n",
       "      <td>World Championship 28th</td>\n",
       "      <td>Reykjavik ISL</td>\n",
       "      <td>2785</td>\n",
       "      <td>27</td>\n",
       "    </tr>\n",
       "    <tr>\n",
       "      <th>579</th>\n",
       "      <td>World Championship 28th</td>\n",
       "      <td>Reykjavik ISL</td>\n",
       "      <td>2785</td>\n",
       "      <td>43</td>\n",
       "    </tr>\n",
       "    <tr>\n",
       "      <th>581</th>\n",
       "      <td>World Championship 28th</td>\n",
       "      <td>Reykjavik ISL</td>\n",
       "      <td>2785</td>\n",
       "      <td>44</td>\n",
       "    </tr>\n",
       "    <tr>\n",
       "      <th>567</th>\n",
       "      <td>World Championship 28th</td>\n",
       "      <td>Reykjavik ISL</td>\n",
       "      <td>2785</td>\n",
       "      <td>41</td>\n",
       "    </tr>\n",
       "    <tr>\n",
       "      <th>583</th>\n",
       "      <td>World Championship 28th</td>\n",
       "      <td>Reykjavik ISL</td>\n",
       "      <td>2785</td>\n",
       "      <td>40</td>\n",
       "    </tr>\n",
       "  </tbody>\n",
       "</table>\n",
       "</div>"
      ],
      "text/plain": [
       "                       Event           Site  BlackElo  Moves\n",
       "566  World Championship 28th  Reykjavik ISL      2785     55\n",
       "575  World Championship 28th  Reykjavik ISL      2785     30\n",
       "571  World Championship 28th  Reykjavik ISL      2785     48\n",
       "577  World Championship 28th  Reykjavik ISL      2785     74\n",
       "573  World Championship 28th  Reykjavik ISL      2785     29\n",
       "569  World Championship 28th  Reykjavik ISL      2785     27\n",
       "579  World Championship 28th  Reykjavik ISL      2785     43\n",
       "581  World Championship 28th  Reykjavik ISL      2785     44\n",
       "567  World Championship 28th  Reykjavik ISL      2785     41\n",
       "583  World Championship 28th  Reykjavik ISL      2785     40"
      ]
     },
     "execution_count": 37,
     "metadata": {},
     "output_type": "execute_result"
    }
   ],
   "source": [
    "categories.sort_values(by=['BlackElo'], ascending=False).head(10)"
   ]
  },
  {
   "cell_type": "markdown",
   "id": "1ca80ff3",
   "metadata": {},
   "source": [
    "# Univariate analysis categorical op Event"
   ]
  },
  {
   "cell_type": "code",
   "execution_count": 38,
   "id": "5f725451",
   "metadata": {},
   "outputs": [
    {
     "data": {
      "text/plain": [
       "array(['World Championship 1st', 'World Championship 2nd',\n",
       "       'World Championship 3rd', 'World Championship 4th',\n",
       "       'World Championship 5th', 'World Championship 7th',\n",
       "       'World Championship 8th', 'World Championship 9th',\n",
       "       'World Championship 11th', 'World Championship 10th',\n",
       "       'World Championship 12th', 'World Championship 13th',\n",
       "       'World Championship 14th', 'World Championship 15th',\n",
       "       'World Championship 16th', 'World Championship 17th',\n",
       "       'World Championship 18th', 'World Championship 19th',\n",
       "       'World Championship 20th', 'World Championship 21th',\n",
       "       'World Championship 22th', 'World Championship 23th',\n",
       "       'World Championship 24th', 'World Championship 25th',\n",
       "       'World Championship 26th', 'World Championship 27th',\n",
       "       'World Championship 28th', 'World Championship 29th',\n",
       "       'World Championship 30th', 'World Championship 31th'], dtype=object)"
      ]
     },
     "execution_count": 38,
     "metadata": {},
     "output_type": "execute_result"
    }
   ],
   "source": [
    "categories['Event'].unique()"
   ]
  },
  {
   "cell_type": "code",
   "execution_count": 39,
   "id": "c01433f8",
   "metadata": {},
   "outputs": [
    {
     "data": {
      "text/plain": [
       "World Championship 31th    48\n",
       "World Championship 18th    48\n",
       "World Championship 13th    34\n",
       "World Championship 29th    32\n",
       "World Championship 16th    30\n",
       "World Championship 15th    26\n",
       "World Championship 14th    25\n",
       "World Championship 17th    25\n",
       "World Championship 26th    24\n",
       "World Championship 19th    24\n",
       "World Championship 20th    24\n",
       "World Championship 22th    23\n",
       "World Championship 27th    23\n",
       "World Championship 4th     23\n",
       "World Championship 21th    22\n",
       "World Championship 25th    22\n",
       "World Championship 24th    21\n",
       "World Championship 23th    21\n",
       "World Championship 28th    20\n",
       "World Championship 1st     20\n",
       "World Championship 5th     19\n",
       "World Championship 3rd     19\n",
       "World Championship 30th    18\n",
       "World Championship 2nd     17\n",
       "World Championship 8th     16\n",
       "World Championship 7th     15\n",
       "World Championship 12th    14\n",
       "World Championship 11th    11\n",
       "World Championship 10th    10\n",
       "World Championship 9th     10\n",
       "Name: Event, dtype: int64"
      ]
     },
     "execution_count": 39,
     "metadata": {},
     "output_type": "execute_result"
    }
   ],
   "source": [
    "categories['Event'].value_counts()"
   ]
  },
  {
   "cell_type": "code",
   "execution_count": 40,
   "id": "dcd9ae53",
   "metadata": {},
   "outputs": [
    {
     "data": {
      "text/plain": [
       "<AxesSubplot:>"
      ]
     },
     "execution_count": 40,
     "metadata": {},
     "output_type": "execute_result"
    },
    {
     "data": {
      "image/png": "[encoded data removed]",
      "text/plain": [
       "<Figure size 432x288 with 1 Axes>"
      ]
     },
     "metadata": {
      "needs_background": "light"
     },
     "output_type": "display_data"
    }
   ],
   "source": [
    "categories['Event'].value_counts().plot(kind='bar')"
   ]
  },
  {
   "cell_type": "markdown",
   "id": "aa648007",
   "metadata": {},
   "source": [
    "# Univariate analysis categorical op Site"
   ]
  },
  {
   "cell_type": "code",
   "execution_count": 41,
   "id": "a1dca04c",
   "metadata": {},
   "outputs": [
    {
     "data": {
      "text/plain": [
       "0    USA\n",
       "1    USA\n",
       "2    USA\n",
       "3    USA\n",
       "4    USA\n",
       "Name: Site, dtype: object"
      ]
     },
     "execution_count": 41,
     "metadata": {},
     "output_type": "execute_result"
    }
   ],
   "source": [
    "categories['Site'].head()"
   ]
  },
  {
   "cell_type": "code",
   "execution_count": 42,
   "id": "b9554655",
   "metadata": {},
   "outputs": [
    {
     "data": {
      "text/plain": [
       "array(['USA', 'Havana CUB', 'New York, NY USA', 'USA/CAN', 'GER',\n",
       "       'Paris FRA', 'Berlin GER', 'GER/AUT', 'Buenos Aires ARG',\n",
       "       'GER/NLD', 'NLD', 'NLD/URS', 'Moscow RUS', 'Reykjavik ISL',\n",
       "       'Baguio City PHI', 'Meran ITA'], dtype=object)"
      ]
     },
     "execution_count": 42,
     "metadata": {},
     "output_type": "execute_result"
    }
   ],
   "source": [
    "categories['Site'].unique()"
   ]
  },
  {
   "cell_type": "code",
   "execution_count": 43,
   "id": "6893aef1",
   "metadata": {},
   "outputs": [
    {
     "data": {
      "text/plain": [
       "Moscow RUS          252\n",
       "NLD                  55\n",
       "Havana CUB           54\n",
       "NLD/URS              48\n",
       "GER                  42\n",
       "USA                  35\n",
       "Buenos Aires ARG     34\n",
       "Baguio City PHI      32\n",
       "GER/NLD              25\n",
       "Reykjavik ISL        20\n",
       "New York, NY USA     19\n",
       "USA/CAN              19\n",
       "Meran ITA            18\n",
       "Berlin GER           11\n",
       "Paris FRA            10\n",
       "GER/AUT              10\n",
       "Name: Site, dtype: int64"
      ]
     },
     "execution_count": 43,
     "metadata": {},
     "output_type": "execute_result"
    }
   ],
   "source": [
    "categories['Site'].value_counts()"
   ]
  },
  {
   "cell_type": "code",
   "execution_count": 44,
   "id": "6dfe42aa",
   "metadata": {},
   "outputs": [
    {
     "data": {
      "text/plain": [
       "<AxesSubplot:>"
      ]
     },
     "execution_count": 44,
     "metadata": {},
     "output_type": "execute_result"
    },
    {
     "data": {
      "image/png": "[encoded data removed]",
      "text/plain": [
       "<Figure size 432x288 with 1 Axes>"
      ]
     },
     "metadata": {
      "needs_background": "light"
     },
     "output_type": "display_data"
    }
   ],
   "source": [
    "categories['Site'].value_counts().plot(kind='bar')"
   ]
  },
  {
   "cell_type": "markdown",
   "id": "cbad7b61",
   "metadata": {},
   "source": [
    "# Univariate analysis numerical op Moves"
   ]
  },
  {
   "cell_type": "code",
   "execution_count": 45,
   "id": "0fe07850",
   "metadata": {},
   "outputs": [
    {
     "data": {
      "text/plain": [
       "9"
      ]
     },
     "execution_count": 45,
     "metadata": {},
     "output_type": "execute_result"
    }
   ],
   "source": [
    "categories['Moves'].min()"
   ]
  },
  {
   "cell_type": "code",
   "execution_count": 46,
   "id": "9d94fcf0",
   "metadata": {},
   "outputs": [
    {
     "data": {
      "text/plain": [
       "123"
      ]
     },
     "execution_count": 46,
     "metadata": {},
     "output_type": "execute_result"
    }
   ],
   "source": [
    "categories['Moves'].max()"
   ]
  },
  {
   "cell_type": "code",
   "execution_count": 47,
   "id": "f0403b38",
   "metadata": {},
   "outputs": [
    {
     "data": {
      "text/plain": [
       "43.72076023391813"
      ]
     },
     "execution_count": 47,
     "metadata": {},
     "output_type": "execute_result"
    }
   ],
   "source": [
    "categories['Moves'].mean()"
   ]
  },
  {
   "cell_type": "code",
   "execution_count": 48,
   "id": "1278dbe6",
   "metadata": {},
   "outputs": [
    {
     "data": {
      "text/plain": [
       "41.0"
      ]
     },
     "execution_count": 48,
     "metadata": {},
     "output_type": "execute_result"
    }
   ],
   "source": [
    "categories['Moves'].median()"
   ]
  },
  {
   "cell_type": "code",
   "execution_count": 49,
   "id": "4c3b90cf",
   "metadata": {},
   "outputs": [
    {
     "data": {
      "text/plain": [
       "0    40\n",
       "dtype: int64"
      ]
     },
     "execution_count": 49,
     "metadata": {},
     "output_type": "execute_result"
    }
   ],
   "source": [
    "categories['Moves'].mode()"
   ]
  },
  {
   "cell_type": "code",
   "execution_count": 50,
   "id": "427062a6",
   "metadata": {},
   "outputs": [
    {
     "data": {
      "text/plain": [
       "16.61464299765421"
      ]
     },
     "execution_count": 50,
     "metadata": {},
     "output_type": "execute_result"
    }
   ],
   "source": [
    "categories['Moves'].std()"
   ]
  },
  {
   "cell_type": "code",
   "execution_count": 51,
   "id": "8ee1fa8c",
   "metadata": {},
   "outputs": [
    {
     "data": {
      "text/plain": [
       "<AxesSubplot:ylabel='Frequency'>"
      ]
     },
     "execution_count": 51,
     "metadata": {},
     "output_type": "execute_result"
    },
    {
     "data": {
      "image/png": "[encoded data removed]",
      "text/plain": [
       "<Figure size 432x288 with 1 Axes>"
      ]
     },
     "metadata": {
      "needs_background": "light"
     },
     "output_type": "display_data"
    }
   ],
   "source": [
    "categories['Moves'].plot(kind='hist', bins = 10)"
   ]
  },
  {
   "cell_type": "code",
   "execution_count": 52,
   "id": "74be5e6e",
   "metadata": {},
   "outputs": [
    {
     "data": {
      "text/plain": [
       "<AxesSubplot:>"
      ]
     },
     "execution_count": 52,
     "metadata": {},
     "output_type": "execute_result"
    },
    {
     "data": {
      "image/png": "[encoded data removed]",
      "text/plain": [
       "<Figure size 432x288 with 1 Axes>"
      ]
     },
     "metadata": {
      "needs_background": "light"
     },
     "output_type": "display_data"
    }
   ],
   "source": [
    "categories['Moves'].plot(kind='box')"
   ]
  },
  {
   "cell_type": "code",
   "execution_count": 53,
   "id": "053fc07f",
   "metadata": {},
   "outputs": [
    {
     "data": {
      "text/plain": [
       "<AxesSubplot:>"
      ]
     },
     "execution_count": 53,
     "metadata": {},
     "output_type": "execute_result"
    },
    {
     "data": {
      "image/png": "[encoded data removed]",
      "text/plain": [
       "<Figure size 432x288 with 1 Axes>"
      ]
     },
     "metadata": {
      "needs_background": "light"
     },
     "output_type": "display_data"
    }
   ],
   "source": [
    "categories['Moves'][categories['Moves']<83].plot(kind='box')"
   ]
  },
  {
   "cell_type": "markdown",
   "id": "16703d68",
   "metadata": {},
   "source": [
    "# Univariate analysis numerical op Black Elo"
   ]
  },
  {
   "cell_type": "markdown",
   "id": "d7e1fb4d",
   "metadata": {},
   "source": [
    "Ik filter hier alle games van de zwarte stukken met een elo van 0, dus niet genoteerd, eruit"
   ]
  },
  {
   "cell_type": "code",
   "execution_count": 54,
   "id": "09e6dd42",
   "metadata": {},
   "outputs": [],
   "source": [
    "eloAboveZero = categories['BlackElo'][categories['BlackElo'] > 0]"
   ]
  },
  {
   "cell_type": "code",
   "execution_count": 55,
   "id": "80a15573",
   "metadata": {},
   "outputs": [
    {
     "data": {
      "text/plain": [
       "2660"
      ]
     },
     "execution_count": 55,
     "metadata": {},
     "output_type": "execute_result"
    }
   ],
   "source": [
    "eloAboveZero.min()"
   ]
  },
  {
   "cell_type": "code",
   "execution_count": 56,
   "id": "2ad03ea4",
   "metadata": {},
   "outputs": [
    {
     "data": {
      "text/plain": [
       "2785"
      ]
     },
     "execution_count": 56,
     "metadata": {},
     "output_type": "execute_result"
    }
   ],
   "source": [
    "eloAboveZero.max()"
   ]
  },
  {
   "cell_type": "code",
   "execution_count": 57,
   "id": "a58d40f7",
   "metadata": {},
   "outputs": [
    {
     "data": {
      "text/plain": [
       "2705.0"
      ]
     },
     "execution_count": 57,
     "metadata": {},
     "output_type": "execute_result"
    }
   ],
   "source": [
    "eloAboveZero.median()"
   ]
  },
  {
   "cell_type": "code",
   "execution_count": 58,
   "id": "5d43f0ce",
   "metadata": {},
   "outputs": [
    {
     "data": {
      "text/plain": [
       "2707.2033898305085"
      ]
     },
     "execution_count": 58,
     "metadata": {},
     "output_type": "execute_result"
    }
   ],
   "source": [
    "eloAboveZero.mean()"
   ]
  },
  {
   "cell_type": "code",
   "execution_count": 59,
   "id": "1a85eaa2",
   "metadata": {},
   "outputs": [
    {
     "data": {
      "text/plain": [
       "32.49945675339107"
      ]
     },
     "execution_count": 59,
     "metadata": {},
     "output_type": "execute_result"
    }
   ],
   "source": [
    "eloAboveZero.std()"
   ]
  },
  {
   "cell_type": "code",
   "execution_count": 60,
   "id": "7effd0e3",
   "metadata": {},
   "outputs": [
    {
     "data": {
      "text/plain": [
       "<AxesSubplot:ylabel='Frequency'>"
      ]
     },
     "execution_count": 60,
     "metadata": {},
     "output_type": "execute_result"
    },
    {
     "data": {
      "image/png": "[encoded data removed]",
      "text/plain": [
       "<Figure size 432x288 with 1 Axes>"
      ]
     },
     "metadata": {
      "needs_background": "light"
     },
     "output_type": "display_data"
    }
   ],
   "source": [
    "eloAboveZero.plot(kind='hist', bins = 10)"
   ]
  },
  {
   "cell_type": "code",
   "execution_count": 61,
   "id": "f39a0918",
   "metadata": {},
   "outputs": [
    {
     "data": {
      "text/plain": [
       "<AxesSubplot:>"
      ]
     },
     "execution_count": 61,
     "metadata": {},
     "output_type": "execute_result"
    },
    {
     "data": {
      "image/png": "[encoded data removed]",
      "text/plain": [
       "<Figure size 432x288 with 1 Axes>"
      ]
     },
     "metadata": {
      "needs_background": "light"
     },
     "output_type": "display_data"
    }
   ],
   "source": [
    "eloAboveZero.plot(kind='box')"
   ]
  },
  {
   "cell_type": "code",
   "execution_count": 62,
   "id": "f8447adb",
   "metadata": {},
   "outputs": [
    {
     "data": {
      "text/plain": [
       "<AxesSubplot:>"
      ]
     },
     "execution_count": 62,
     "metadata": {},
     "output_type": "execute_result"
    },
    {
     "data": {
      "image/png": "[encoded data removed]",
      "text/plain": [
       "<Figure size 432x288 with 1 Axes>"
      ]
     },
     "metadata": {
      "needs_background": "light"
     },
     "output_type": "display_data"
    }
   ],
   "source": [
    "eloAboveZero[eloAboveZero<2730].plot(kind='box')"
   ]
  },
  {
   "cell_type": "code",
   "execution_count": 63,
   "id": "c823080a",
   "metadata": {},
   "outputs": [],
   "source": [
    "eloAboveZero = eloAboveZero[eloAboveZero<2730]"
   ]
  },
  {
   "cell_type": "code",
   "execution_count": 64,
   "id": "d4f8e12f",
   "metadata": {},
   "outputs": [
    {
     "data": {
      "text/plain": [
       "<AxesSubplot:>"
      ]
     },
     "execution_count": 64,
     "metadata": {},
     "output_type": "execute_result"
    },
    {
     "data": {
      "image/png": "[encoded data removed]",
      "text/plain": [
       "<Figure size 432x288 with 1 Axes>"
      ]
     },
     "metadata": {
      "needs_background": "light"
     },
     "output_type": "display_data"
    }
   ],
   "source": [
    "eloAboveZero[eloAboveZero>2665].plot(kind='box')"
   ]
  },
  {
   "cell_type": "code",
   "execution_count": null,
   "id": "fab09db1",
   "metadata": {},
   "outputs": [],
   "source": []
  }
 ],
 "metadata": {
  "kernelspec": {
   "display_name": "Python 3 (ipykernel)",
   "language": "python",
   "name": "python3"
  },
  "language_info": {
   "codemirror_mode": {
    "name": "ipython",
    "version": 3
   },
   "file_extension": ".py",
   "mimetype": "text/x-python",
   "name": "python",
   "nbconvert_exporter": "python",
   "pygments_lexer": "ipython3",
   "version": "3.9.7"
  },
  "vscode": {
   "interpreter": {
    "hash": "ad2bdc8ecc057115af97d19610ffacc2b4e99fae6737bb82f5d7fb13d2f2c186"
   }
  }
 },
 "nbformat": 4,
 "nbformat_minor": 5
}
