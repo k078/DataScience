{
 "cells": [
  {
   "cell_type": "code",
   "execution_count": 4,
   "metadata": {},
   "outputs": [],
   "source": [
    "import pandas as pd\n",
    "import numpy as np\n",
    "import seaborn as sns"
   ]
  },
  {
   "cell_type": "code",
   "execution_count": 5,
   "metadata": {},
   "outputs": [],
   "source": [
    "cigs = pd.read_csv('cigs.csv')"
   ]
  },
  {
   "cell_type": "code",
   "execution_count": 6,
   "metadata": {},
   "outputs": [],
   "source": [
    "cigs = cigs.dropna()"
   ]
  },
  {
   "cell_type": "code",
   "execution_count": 7,
   "metadata": {},
   "outputs": [
    {
     "data": {
      "text/html": [
       "<div>\n",
       "<style scoped>\n",
       "    .dataframe tbody tr th:only-of-type {\n",
       "        vertical-align: middle;\n",
       "    }\n",
       "\n",
       "    .dataframe tbody tr th {\n",
       "        vertical-align: top;\n",
       "    }\n",
       "\n",
       "    .dataframe thead th {\n",
       "        text-align: right;\n",
       "    }\n",
       "</style>\n",
       "<table border=\"1\" class=\"dataframe\">\n",
       "  <thead>\n",
       "    <tr style=\"text-align: right;\">\n",
       "      <th></th>\n",
       "      <th>Brand_Name</th>\n",
       "      <th>flavor</th>\n",
       "      <th>CO</th>\n",
       "      <th>nic</th>\n",
       "      <th>tar</th>\n",
       "      <th>size</th>\n",
       "      <th>filter</th>\n",
       "      <th>pack</th>\n",
       "      <th>menthol</th>\n",
       "    </tr>\n",
       "  </thead>\n",
       "  <tbody>\n",
       "    <tr>\n",
       "      <th>1</th>\n",
       "      <td>Alpine</td>\n",
       "      <td>Lt</td>\n",
       "      <td>12</td>\n",
       "      <td>0.8</td>\n",
       "      <td>10.0</td>\n",
       "      <td>100</td>\n",
       "      <td>F</td>\n",
       "      <td>SP</td>\n",
       "      <td>yes</td>\n",
       "    </tr>\n",
       "    <tr>\n",
       "      <th>3</th>\n",
       "      <td>Alpine</td>\n",
       "      <td>Lt</td>\n",
       "      <td>11</td>\n",
       "      <td>0.7</td>\n",
       "      <td>10.0</td>\n",
       "      <td>King</td>\n",
       "      <td>F</td>\n",
       "      <td>HP</td>\n",
       "      <td>yes</td>\n",
       "    </tr>\n",
       "    <tr>\n",
       "      <th>5</th>\n",
       "      <td>Alpine</td>\n",
       "      <td>Lt</td>\n",
       "      <td>10</td>\n",
       "      <td>0.7</td>\n",
       "      <td>9.0</td>\n",
       "      <td>King</td>\n",
       "      <td>F</td>\n",
       "      <td>SP</td>\n",
       "      <td>yes</td>\n",
       "    </tr>\n",
       "    <tr>\n",
       "      <th>6</th>\n",
       "      <td>American</td>\n",
       "      <td>FF</td>\n",
       "      <td>16</td>\n",
       "      <td>0.9</td>\n",
       "      <td>14.0</td>\n",
       "      <td>100</td>\n",
       "      <td>F</td>\n",
       "      <td>SP</td>\n",
       "      <td>no</td>\n",
       "    </tr>\n",
       "    <tr>\n",
       "      <th>7</th>\n",
       "      <td>American</td>\n",
       "      <td>Lt</td>\n",
       "      <td>13</td>\n",
       "      <td>0.7</td>\n",
       "      <td>10.0</td>\n",
       "      <td>100</td>\n",
       "      <td>F</td>\n",
       "      <td>SP</td>\n",
       "      <td>no</td>\n",
       "    </tr>\n",
       "  </tbody>\n",
       "</table>\n",
       "</div>"
      ],
      "text/plain": [
       "  Brand_Name flavor  CO  nic   tar  size filter pack menthol\n",
       "1    Alpine      Lt  12  0.8  10.0   100      F   SP     yes\n",
       "3    Alpine      Lt  11  0.7  10.0  King      F   HP     yes\n",
       "5    Alpine      Lt  10  0.7   9.0  King      F   SP     yes\n",
       "6  American      FF  16  0.9  14.0   100      F   SP      no\n",
       "7  American      Lt  13  0.7  10.0   100      F   SP      no"
      ]
     },
     "execution_count": 7,
     "metadata": {},
     "output_type": "execute_result"
    }
   ],
   "source": [
    "cigs.head()"
   ]
  },
  {
   "cell_type": "code",
   "execution_count": 8,
   "metadata": {},
   "outputs": [
    {
     "data": {
      "text/html": [
       "<div>\n",
       "<style scoped>\n",
       "    .dataframe tbody tr th:only-of-type {\n",
       "        vertical-align: middle;\n",
       "    }\n",
       "\n",
       "    .dataframe tbody tr th {\n",
       "        vertical-align: top;\n",
       "    }\n",
       "\n",
       "    .dataframe thead th {\n",
       "        text-align: right;\n",
       "    }\n",
       "</style>\n",
       "<table border=\"1\" class=\"dataframe\">\n",
       "  <thead>\n",
       "    <tr style=\"text-align: right;\">\n",
       "      <th></th>\n",
       "      <th>CO</th>\n",
       "      <th>nic</th>\n",
       "      <th>tar</th>\n",
       "    </tr>\n",
       "  </thead>\n",
       "  <tbody>\n",
       "    <tr>\n",
       "      <th>CO</th>\n",
       "      <td>1.000000</td>\n",
       "      <td>0.706568</td>\n",
       "      <td>0.873473</td>\n",
       "    </tr>\n",
       "    <tr>\n",
       "      <th>nic</th>\n",
       "      <td>0.706568</td>\n",
       "      <td>1.000000</td>\n",
       "      <td>0.908553</td>\n",
       "    </tr>\n",
       "    <tr>\n",
       "      <th>tar</th>\n",
       "      <td>0.873473</td>\n",
       "      <td>0.908553</td>\n",
       "      <td>1.000000</td>\n",
       "    </tr>\n",
       "  </tbody>\n",
       "</table>\n",
       "</div>"
      ],
      "text/plain": [
       "           CO       nic       tar\n",
       "CO   1.000000  0.706568  0.873473\n",
       "nic  0.706568  1.000000  0.908553\n",
       "tar  0.873473  0.908553  1.000000"
      ]
     },
     "execution_count": 8,
     "metadata": {},
     "output_type": "execute_result"
    }
   ],
   "source": [
    "cigs.corr()"
   ]
  },
  {
   "cell_type": "code",
   "execution_count": 9,
   "metadata": {},
   "outputs": [],
   "source": [
    "from sklearn.tree import DecisionTreeRegressor"
   ]
  },
  {
   "cell_type": "code",
   "execution_count": 10,
   "metadata": {},
   "outputs": [],
   "source": [
    "from sklearn.model_selection import train_test_split"
   ]
  },
  {
   "cell_type": "code",
   "execution_count": 15,
   "metadata": {},
   "outputs": [
    {
     "name": "stdout",
     "output_type": "stream",
     "text": [
      "(634, 9) (273, 9)\n"
     ]
    }
   ],
   "source": [
    "cigs_train, cigs_test = train_test_split(cigs, test_size=0.3, random_state=42, stratify=cigs['pack'])\n",
    "print(cigs_train.shape, cigs_test.shape)"
   ]
  },
  {
   "cell_type": "code",
   "execution_count": 27,
   "metadata": {},
   "outputs": [
    {
     "data": {
      "text/plain": [
       "DecisionTreeRegressor(max_depth=2)"
      ]
     },
     "execution_count": 27,
     "metadata": {},
     "output_type": "execute_result"
    }
   ],
   "source": [
    "features= ['tar', 'CO']\n",
    "dt_regression = DecisionTreeRegressor(max_depth = 2) # Increase max_depth to see effect in the plot\n",
    "dt_regression.fit(cigs_train[features], cigs_train['nic'])"
   ]
  },
  {
   "cell_type": "code",
   "execution_count": 28,
   "metadata": {},
   "outputs": [],
   "source": [
    "from sklearn import tree\n",
    "import graphviz\n",
    "\n",
    "def plot_tree_regression(model, features):\n",
    "    # Generate plot data\n",
    "    dot_data = tree.export_graphviz(model, out_file=None, \n",
    "                          feature_names=features,  \n",
    "                          filled=True, rounded=True,  \n",
    "                          special_characters=True)  \n",
    "\n",
    "    # Turn into graph using graphviz\n",
    "    graph = graphviz.Source(dot_data)  \n",
    "\n",
    "    # Write out a pdf\n",
    "    graph.render(\"decision_tree\")\n",
    "\n",
    "    # Display in the notebook\n",
    "    return graph "
   ]
  },
  {
   "cell_type": "code",
   "execution_count": 29,
   "metadata": {},
   "outputs": [
    {
     "data": {
      "image/svg+xml": "<?xml version=\"1.0\" encoding=\"UTF-8\" standalone=\"no\"?>\r\n<!DOCTYPE svg PUBLIC \"-//W3C//DTD SVG 1.1//EN\"\r\n \"http://www.w3.org/Graphics/SVG/1.1/DTD/svg11.dtd\">\r\n<!-- Generated by graphviz version 2.38.0 (20140413.2041)\r\n -->\r\n<!-- Title: Tree Pages: 1 -->\r\n<svg width=\"484pt\" height=\"269pt\"\r\n viewBox=\"0.00 0.00 484.00 269.00\" xmlns=\"http://www.w3.org/2000/svg\" xmlns:xlink=\"http://www.w3.org/1999/xlink\">\r\n<g id=\"graph0\" class=\"graph\" transform=\"scale(1 1) rotate(0) translate(4 265)\">\r\n<title>Tree</title>\r\n<polygon fill=\"white\" stroke=\"none\" points=\"-4,4 -4,-265 480,-265 480,4 -4,4\"/>\r\n<!-- 0 -->\r\n<g id=\"node1\" class=\"node\"><title>0</title>\r\n<path fill=\"#f1bd98\" stroke=\"black\" d=\"M279,-261C279,-261 192,-261 192,-261 186,-261 180,-255 180,-249 180,-249 180,-205 180,-205 180,-199 186,-193 192,-193 192,-193 279,-193 279,-193 285,-193 291,-199 291,-205 291,-205 291,-249 291,-249 291,-255 285,-261 279,-261\"/>\r\n<text text-anchor=\"start\" x=\"209.5\" y=\"-245.8\" font-family=\"Helvetica,sans-Serif\" font-size=\"14.00\">tar ≤ 7.5</text>\r\n<text text-anchor=\"start\" x=\"195\" y=\"-230.8\" font-family=\"Helvetica,sans-Serif\" font-size=\"14.00\">mse = 0.054</text>\r\n<text text-anchor=\"start\" x=\"188\" y=\"-215.8\" font-family=\"Helvetica,sans-Serif\" font-size=\"14.00\">samples = 634</text>\r\n<text text-anchor=\"start\" x=\"192.5\" y=\"-200.8\" font-family=\"Helvetica,sans-Serif\" font-size=\"14.00\">value = 0.696</text>\r\n</g>\r\n<!-- 1 -->\r\n<g id=\"node2\" class=\"node\"><title>1</title>\r\n<path fill=\"#fcf1e9\" stroke=\"black\" d=\"M215,-157C215,-157 128,-157 128,-157 122,-157 116,-151 116,-145 116,-145 116,-101 116,-101 116,-95 122,-89 128,-89 128,-89 215,-89 215,-89 221,-89 227,-95 227,-101 227,-101 227,-145 227,-145 227,-151 221,-157 215,-157\"/>\r\n<text text-anchor=\"start\" x=\"145.5\" y=\"-141.8\" font-family=\"Helvetica,sans-Serif\" font-size=\"14.00\">tar ≤ 4.5</text>\r\n<text text-anchor=\"start\" x=\"131\" y=\"-126.8\" font-family=\"Helvetica,sans-Serif\" font-size=\"14.00\">mse = 0.014</text>\r\n<text text-anchor=\"start\" x=\"124\" y=\"-111.8\" font-family=\"Helvetica,sans-Serif\" font-size=\"14.00\">samples = 139</text>\r\n<text text-anchor=\"start\" x=\"128.5\" y=\"-96.8\" font-family=\"Helvetica,sans-Serif\" font-size=\"14.00\">value = 0.376</text>\r\n</g>\r\n<!-- 0&#45;&gt;1 -->\r\n<g id=\"edge1\" class=\"edge\"><title>0&#45;&gt;1</title>\r\n<path fill=\"none\" stroke=\"black\" d=\"M214.721,-192.884C209.3,-184.243 203.387,-174.819 197.723,-165.793\"/>\r\n<polygon fill=\"black\" stroke=\"black\" points=\"200.673,-163.91 192.394,-157.299 194.744,-167.63 200.673,-163.91\"/>\r\n<text text-anchor=\"middle\" x=\"186.815\" y=\"-177.969\" font-family=\"Helvetica,sans-Serif\" font-size=\"14.00\">True</text>\r\n</g>\r\n<!-- 4 -->\r\n<g id=\"node5\" class=\"node\"><title>4</title>\r\n<path fill=\"#eeaf81\" stroke=\"black\" d=\"M344,-157C344,-157 257,-157 257,-157 251,-157 245,-151 245,-145 245,-145 245,-101 245,-101 245,-95 251,-89 257,-89 257,-89 344,-89 344,-89 350,-89 356,-95 356,-101 356,-101 356,-145 356,-145 356,-151 350,-157 344,-157\"/>\r\n<text text-anchor=\"start\" x=\"270.5\" y=\"-141.8\" font-family=\"Helvetica,sans-Serif\" font-size=\"14.00\">tar ≤ 14.5</text>\r\n<text text-anchor=\"start\" x=\"260\" y=\"-126.8\" font-family=\"Helvetica,sans-Serif\" font-size=\"14.00\">mse = 0.028</text>\r\n<text text-anchor=\"start\" x=\"253\" y=\"-111.8\" font-family=\"Helvetica,sans-Serif\" font-size=\"14.00\">samples = 495</text>\r\n<text text-anchor=\"start\" x=\"257.5\" y=\"-96.8\" font-family=\"Helvetica,sans-Serif\" font-size=\"14.00\">value = 0.786</text>\r\n</g>\r\n<!-- 0&#45;&gt;4 -->\r\n<g id=\"edge4\" class=\"edge\"><title>0&#45;&gt;4</title>\r\n<path fill=\"none\" stroke=\"black\" d=\"M256.604,-192.884C262.11,-184.243 268.115,-174.819 273.867,-165.793\"/>\r\n<polygon fill=\"black\" stroke=\"black\" points=\"276.857,-167.614 279.28,-157.299 270.954,-163.852 276.857,-167.614\"/>\r\n<text text-anchor=\"middle\" x=\"284.688\" y=\"-178.007\" font-family=\"Helvetica,sans-Serif\" font-size=\"14.00\">False</text>\r\n</g>\r\n<!-- 2 -->\r\n<g id=\"node3\" class=\"node\"><title>2</title>\r\n<path fill=\"#ffffff\" stroke=\"black\" d=\"M91,-53C91,-53 12,-53 12,-53 6,-53 0,-47 0,-41 0,-41 0,-12 0,-12 0,-6 6,-0 12,-0 12,-0 91,-0 91,-0 97,-0 103,-6 103,-12 103,-12 103,-41 103,-41 103,-47 97,-53 91,-53\"/>\r\n<text text-anchor=\"start\" x=\"11\" y=\"-37.8\" font-family=\"Helvetica,sans-Serif\" font-size=\"14.00\">mse = 0.005</text>\r\n<text text-anchor=\"start\" x=\"8\" y=\"-22.8\" font-family=\"Helvetica,sans-Serif\" font-size=\"14.00\">samples = 75</text>\r\n<text text-anchor=\"start\" x=\"8.5\" y=\"-7.8\" font-family=\"Helvetica,sans-Serif\" font-size=\"14.00\">value = 0.287</text>\r\n</g>\r\n<!-- 1&#45;&gt;2 -->\r\n<g id=\"edge2\" class=\"edge\"><title>1&#45;&gt;2</title>\r\n<path fill=\"none\" stroke=\"black\" d=\"M129.53,-88.9485C117.449,-79.4346 104.292,-69.074 92.2842,-59.6175\"/>\r\n<polygon fill=\"black\" stroke=\"black\" points=\"94.2033,-56.6739 84.1815,-53.2367 89.8725,-62.1734 94.2033,-56.6739\"/>\r\n</g>\r\n<!-- 3 -->\r\n<g id=\"node4\" class=\"node\"><title>3</title>\r\n<path fill=\"#f9e0ce\" stroke=\"black\" d=\"M212,-53C212,-53 133,-53 133,-53 127,-53 121,-47 121,-41 121,-41 121,-12 121,-12 121,-6 127,-0 133,-0 133,-0 212,-0 212,-0 218,-0 224,-6 224,-12 224,-12 224,-41 224,-41 224,-47 218,-53 212,-53\"/>\r\n<text text-anchor=\"start\" x=\"132\" y=\"-37.8\" font-family=\"Helvetica,sans-Serif\" font-size=\"14.00\">mse = 0.004</text>\r\n<text text-anchor=\"start\" x=\"129\" y=\"-22.8\" font-family=\"Helvetica,sans-Serif\" font-size=\"14.00\">samples = 64</text>\r\n<text text-anchor=\"start\" x=\"133.5\" y=\"-7.8\" font-family=\"Helvetica,sans-Serif\" font-size=\"14.00\">value = 0.48</text>\r\n</g>\r\n<!-- 1&#45;&gt;3 -->\r\n<g id=\"edge3\" class=\"edge\"><title>1&#45;&gt;3</title>\r\n<path fill=\"none\" stroke=\"black\" d=\"M171.85,-88.9485C171.937,-80.7153 172.031,-71.848 172.119,-63.4814\"/>\r\n<polygon fill=\"black\" stroke=\"black\" points=\"175.622,-63.2732 172.228,-53.2367 168.622,-63.1991 175.622,-63.2732\"/>\r\n</g>\r\n<!-- 5 -->\r\n<g id=\"node6\" class=\"node\"><title>5</title>\r\n<path fill=\"#f0b58b\" stroke=\"black\" d=\"M343,-53C343,-53 256,-53 256,-53 250,-53 244,-47 244,-41 244,-41 244,-12 244,-12 244,-6 250,-0 256,-0 256,-0 343,-0 343,-0 349,-0 355,-6 355,-12 355,-12 355,-41 355,-41 355,-47 349,-53 343,-53\"/>\r\n<text text-anchor=\"start\" x=\"259\" y=\"-37.8\" font-family=\"Helvetica,sans-Serif\" font-size=\"14.00\">mse = 0.013</text>\r\n<text text-anchor=\"start\" x=\"252\" y=\"-22.8\" font-family=\"Helvetica,sans-Serif\" font-size=\"14.00\">samples = 433</text>\r\n<text text-anchor=\"start\" x=\"256.5\" y=\"-7.8\" font-family=\"Helvetica,sans-Serif\" font-size=\"14.00\">value = 0.745</text>\r\n</g>\r\n<!-- 4&#45;&gt;5 -->\r\n<g id=\"edge5\" class=\"edge\"><title>4&#45;&gt;5</title>\r\n<path fill=\"none\" stroke=\"black\" d=\"M300.15,-88.9485C300.063,-80.7153 299.969,-71.848 299.881,-63.4814\"/>\r\n<polygon fill=\"black\" stroke=\"black\" points=\"303.378,-63.1991 299.772,-53.2367 296.378,-63.2732 303.378,-63.1991\"/>\r\n</g>\r\n<!-- 6 -->\r\n<g id=\"node7\" class=\"node\"><title>6</title>\r\n<path fill=\"#e58139\" stroke=\"black\" d=\"M464,-53C464,-53 385,-53 385,-53 379,-53 373,-47 373,-41 373,-41 373,-12 373,-12 373,-6 379,-0 385,-0 385,-0 464,-0 464,-0 470,-0 476,-6 476,-12 476,-12 476,-41 476,-41 476,-47 470,-53 464,-53\"/>\r\n<text text-anchor=\"start\" x=\"388\" y=\"-37.8\" font-family=\"Helvetica,sans-Serif\" font-size=\"14.00\">mse = 0.04</text>\r\n<text text-anchor=\"start\" x=\"381\" y=\"-22.8\" font-family=\"Helvetica,sans-Serif\" font-size=\"14.00\">samples = 62</text>\r\n<text text-anchor=\"start\" x=\"381.5\" y=\"-7.8\" font-family=\"Helvetica,sans-Serif\" font-size=\"14.00\">value = 1.071</text>\r\n</g>\r\n<!-- 4&#45;&gt;6 -->\r\n<g id=\"edge6\" class=\"edge\"><title>4&#45;&gt;6</title>\r\n<path fill=\"none\" stroke=\"black\" d=\"M343.869,-88.9485C356.473,-79.3431 370.209,-68.8747 382.714,-59.345\"/>\r\n<polygon fill=\"black\" stroke=\"black\" points=\"384.897,-62.0819 390.729,-53.2367 380.654,-56.5144 384.897,-62.0819\"/>\r\n</g>\r\n</g>\r\n</svg>\r\n",
      "text/plain": [
       "<graphviz.files.Source at 0x1cb27a91f10>"
      ]
     },
     "execution_count": 29,
     "metadata": {},
     "output_type": "execute_result"
    }
   ],
   "source": [
    "plot_tree_regression(dt_regression, features)"
   ]
  },
  {
   "cell_type": "code",
   "execution_count": 30,
   "metadata": {},
   "outputs": [],
   "source": [
    "def calculate_rmse(predictions, actuals):\n",
    "    if(len(predictions) != len(actuals)):\n",
    "        raise Exception(\"The amount of predictions did not equal the amount of actuals\")\n",
    "    \n",
    "    return (((predictions - actuals) ** 2).sum() / len(actuals)) ** (1/2)"
   ]
  },
  {
   "cell_type": "code",
   "execution_count": 31,
   "metadata": {},
   "outputs": [
    {
     "name": "stdout",
     "output_type": "stream",
     "text": [
      "RMSE on training set 0.11762449339444593\n",
      "RMSE on test set 0.11229528088149056\n"
     ]
    }
   ],
   "source": [
    "predictionsOnTrainset = dt_regression.predict(cigs_train[features])\n",
    "predictionsOnTestset = dt_regression.predict(cigs_test[features])\n",
    "\n",
    "rmseTrain = calculate_rmse(predictionsOnTrainset, cigs_train.nic)\n",
    "rmseTest = calculate_rmse(predictionsOnTestset, cigs_test.nic)\n",
    "\n",
    "print(\"RMSE on training set \" + str(rmseTrain))\n",
    "print(\"RMSE on test set \" + str(rmseTest))"
   ]
  },
  {
   "attachments": {},
   "cell_type": "markdown",
   "metadata": {},
   "source": [
    "Deze accuracy is vrijwel hetzelfde. Ik had dit wel verwacht omdat de hoeveelheid tar en CO gewoon in lijn staan met de ehoeveelheid nicotine een sigaret dus bevat. Hoe meer tar en CO hoe meer nicotine de sigaret waarschijnlijk bevat. De accuracy is ongeveer 10% van de \"actual values\" dat is dus niet slecht maar ook niet heel goed."
   ]
  },
  {
   "attachments": {},
   "cell_type": "markdown",
   "metadata": {},
   "source": [
    "Deze tree vind ik wel een stuk beter te begrijpen, wanneer de tar hoger is zal de nico ook hoger zijn en andersom"
   ]
  },
  {
   "cell_type": "markdown",
   "metadata": {},
   "source": []
  }
 ],
 "metadata": {
  "kernelspec": {
   "display_name": "base",
   "language": "python",
   "name": "python3"
  },
  "language_info": {
   "codemirror_mode": {
    "name": "ipython",
    "version": 3
   },
   "file_extension": ".py",
   "mimetype": "text/x-python",
   "name": "python",
   "nbconvert_exporter": "python",
   "pygments_lexer": "ipython3",
   "version": "3.9.7"
  },
  "orig_nbformat": 4,
  "vscode": {
   "interpreter": {
    "hash": "ad2bdc8ecc057115af97d19610ffacc2b4e99fae6737bb82f5d7fb13d2f2c186"
   }
  }
 },
 "nbformat": 4,
 "nbformat_minor": 2
}
