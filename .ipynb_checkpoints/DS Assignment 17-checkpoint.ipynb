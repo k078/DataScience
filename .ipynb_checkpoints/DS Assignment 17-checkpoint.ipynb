{
 "cells": [
  {
   "cell_type": "code",
   "execution_count": 1,
   "metadata": {},
   "outputs": [],
   "source": [
    "import pandas as pd\n",
    "import numpy as np\n",
    "import seaborn as sns"
   ]
  },
  {
   "cell_type": "code",
   "execution_count": 2,
   "metadata": {},
   "outputs": [],
   "source": [
    "pen = sns.load_dataset('penguins')"
   ]
  },
  {
   "cell_type": "code",
   "execution_count": 3,
   "metadata": {},
   "outputs": [
    {
     "data": {
      "text/html": [
       "<div>\n",
       "<style scoped>\n",
       "    .dataframe tbody tr th:only-of-type {\n",
       "        vertical-align: middle;\n",
       "    }\n",
       "\n",
       "    .dataframe tbody tr th {\n",
       "        vertical-align: top;\n",
       "    }\n",
       "\n",
       "    .dataframe thead th {\n",
       "        text-align: right;\n",
       "    }\n",
       "</style>\n",
       "<table border=\"1\" class=\"dataframe\">\n",
       "  <thead>\n",
       "    <tr style=\"text-align: right;\">\n",
       "      <th></th>\n",
       "      <th>species</th>\n",
       "      <th>island</th>\n",
       "      <th>bill_length_mm</th>\n",
       "      <th>bill_depth_mm</th>\n",
       "      <th>flipper_length_mm</th>\n",
       "      <th>body_mass_g</th>\n",
       "      <th>sex</th>\n",
       "    </tr>\n",
       "  </thead>\n",
       "  <tbody>\n",
       "    <tr>\n",
       "      <th>0</th>\n",
       "      <td>Adelie</td>\n",
       "      <td>Torgersen</td>\n",
       "      <td>39.1</td>\n",
       "      <td>18.7</td>\n",
       "      <td>181.0</td>\n",
       "      <td>3750.0</td>\n",
       "      <td>Male</td>\n",
       "    </tr>\n",
       "    <tr>\n",
       "      <th>1</th>\n",
       "      <td>Adelie</td>\n",
       "      <td>Torgersen</td>\n",
       "      <td>39.5</td>\n",
       "      <td>17.4</td>\n",
       "      <td>186.0</td>\n",
       "      <td>3800.0</td>\n",
       "      <td>Female</td>\n",
       "    </tr>\n",
       "    <tr>\n",
       "      <th>2</th>\n",
       "      <td>Adelie</td>\n",
       "      <td>Torgersen</td>\n",
       "      <td>40.3</td>\n",
       "      <td>18.0</td>\n",
       "      <td>195.0</td>\n",
       "      <td>3250.0</td>\n",
       "      <td>Female</td>\n",
       "    </tr>\n",
       "    <tr>\n",
       "      <th>3</th>\n",
       "      <td>Adelie</td>\n",
       "      <td>Torgersen</td>\n",
       "      <td>NaN</td>\n",
       "      <td>NaN</td>\n",
       "      <td>NaN</td>\n",
       "      <td>NaN</td>\n",
       "      <td>NaN</td>\n",
       "    </tr>\n",
       "    <tr>\n",
       "      <th>4</th>\n",
       "      <td>Adelie</td>\n",
       "      <td>Torgersen</td>\n",
       "      <td>36.7</td>\n",
       "      <td>19.3</td>\n",
       "      <td>193.0</td>\n",
       "      <td>3450.0</td>\n",
       "      <td>Female</td>\n",
       "    </tr>\n",
       "  </tbody>\n",
       "</table>\n",
       "</div>"
      ],
      "text/plain": [
       "  species     island  bill_length_mm  bill_depth_mm  flipper_length_mm  \\\n",
       "0  Adelie  Torgersen            39.1           18.7              181.0   \n",
       "1  Adelie  Torgersen            39.5           17.4              186.0   \n",
       "2  Adelie  Torgersen            40.3           18.0              195.0   \n",
       "3  Adelie  Torgersen             NaN            NaN                NaN   \n",
       "4  Adelie  Torgersen            36.7           19.3              193.0   \n",
       "\n",
       "   body_mass_g     sex  \n",
       "0       3750.0    Male  \n",
       "1       3800.0  Female  \n",
       "2       3250.0  Female  \n",
       "3          NaN     NaN  \n",
       "4       3450.0  Female  "
      ]
     },
     "execution_count": 3,
     "metadata": {},
     "output_type": "execute_result"
    }
   ],
   "source": [
    "pen.head()"
   ]
  },
  {
   "cell_type": "code",
   "execution_count": 4,
   "metadata": {},
   "outputs": [],
   "source": [
    "pen = pen.dropna()"
   ]
  },
  {
   "cell_type": "code",
   "execution_count": 5,
   "metadata": {},
   "outputs": [
    {
     "data": {
      "text/html": [
       "<div>\n",
       "<style scoped>\n",
       "    .dataframe tbody tr th:only-of-type {\n",
       "        vertical-align: middle;\n",
       "    }\n",
       "\n",
       "    .dataframe tbody tr th {\n",
       "        vertical-align: top;\n",
       "    }\n",
       "\n",
       "    .dataframe thead th {\n",
       "        text-align: right;\n",
       "    }\n",
       "</style>\n",
       "<table border=\"1\" class=\"dataframe\">\n",
       "  <thead>\n",
       "    <tr style=\"text-align: right;\">\n",
       "      <th></th>\n",
       "      <th>bill_length_mm</th>\n",
       "      <th>bill_depth_mm</th>\n",
       "      <th>flipper_length_mm</th>\n",
       "      <th>body_mass_g</th>\n",
       "    </tr>\n",
       "  </thead>\n",
       "  <tbody>\n",
       "    <tr>\n",
       "      <th>bill_length_mm</th>\n",
       "      <td>1.000000</td>\n",
       "      <td>-0.228626</td>\n",
       "      <td>0.653096</td>\n",
       "      <td>0.589451</td>\n",
       "    </tr>\n",
       "    <tr>\n",
       "      <th>bill_depth_mm</th>\n",
       "      <td>-0.228626</td>\n",
       "      <td>1.000000</td>\n",
       "      <td>-0.577792</td>\n",
       "      <td>-0.472016</td>\n",
       "    </tr>\n",
       "    <tr>\n",
       "      <th>flipper_length_mm</th>\n",
       "      <td>0.653096</td>\n",
       "      <td>-0.577792</td>\n",
       "      <td>1.000000</td>\n",
       "      <td>0.872979</td>\n",
       "    </tr>\n",
       "    <tr>\n",
       "      <th>body_mass_g</th>\n",
       "      <td>0.589451</td>\n",
       "      <td>-0.472016</td>\n",
       "      <td>0.872979</td>\n",
       "      <td>1.000000</td>\n",
       "    </tr>\n",
       "  </tbody>\n",
       "</table>\n",
       "</div>"
      ],
      "text/plain": [
       "                   bill_length_mm  bill_depth_mm  flipper_length_mm  \\\n",
       "bill_length_mm           1.000000      -0.228626           0.653096   \n",
       "bill_depth_mm           -0.228626       1.000000          -0.577792   \n",
       "flipper_length_mm        0.653096      -0.577792           1.000000   \n",
       "body_mass_g              0.589451      -0.472016           0.872979   \n",
       "\n",
       "                   body_mass_g  \n",
       "bill_length_mm        0.589451  \n",
       "bill_depth_mm        -0.472016  \n",
       "flipper_length_mm     0.872979  \n",
       "body_mass_g           1.000000  "
      ]
     },
     "execution_count": 5,
     "metadata": {},
     "output_type": "execute_result"
    }
   ],
   "source": [
    "pen.corr()"
   ]
  },
  {
   "cell_type": "markdown",
   "metadata": {},
   "source": [
    "Ik zie hier dat de correlatie tussen body mass en flipper length het grootst is dus deze twee kolommen zal ik gaan gebruiken."
   ]
  },
  {
   "cell_type": "code",
   "execution_count": 6,
   "metadata": {},
   "outputs": [],
   "source": [
    "from sklearn.tree import DecisionTreeRegressor"
   ]
  },
  {
   "cell_type": "code",
   "execution_count": 7,
   "metadata": {},
   "outputs": [],
   "source": [
    "from sklearn.model_selection import train_test_split"
   ]
  },
  {
   "cell_type": "code",
   "execution_count": 8,
   "metadata": {},
   "outputs": [
    {
     "name": "stdout",
     "output_type": "stream",
     "text": [
      "(233, 7) (100, 7)\n"
     ]
    }
   ],
   "source": [
    "pen_train, pen_test = train_test_split(pen, test_size=0.3, random_state=42, stratify=pen['species'])\n",
    "print(pen_train.shape, pen_test.shape)"
   ]
  },
  {
   "cell_type": "code",
   "execution_count": 9,
   "metadata": {},
   "outputs": [
    {
     "data": {
      "text/plain": [
       "DecisionTreeRegressor(max_depth=3)"
      ]
     },
     "execution_count": 9,
     "metadata": {},
     "output_type": "execute_result"
    }
   ],
   "source": [
    "features= ['bill_length_mm', 'flipper_length_mm']\n",
    "dt_regression = DecisionTreeRegressor(max_depth = 3) # Increase max_depth to see effect in the plot\n",
    "dt_regression.fit(pen_train[features], pen_train['body_mass_g'])"
   ]
  },
  {
   "cell_type": "code",
   "execution_count": 10,
   "metadata": {},
   "outputs": [],
   "source": [
    "from sklearn import tree\n",
    "import graphviz\n",
    "\n",
    "def plot_tree_regression(model, features):\n",
    "    # Generate plot data\n",
    "    dot_data = tree.export_graphviz(model, out_file=None, \n",
    "                          feature_names=features,  \n",
    "                          filled=True, rounded=True,  \n",
    "                          special_characters=True)  \n",
    "\n",
    "    # Turn into graph using graphviz\n",
    "    graph = graphviz.Source(dot_data)  \n",
    "\n",
    "    # Write out a pdf\n",
    "    graph.render(\"decision_tree\")\n",
    "\n",
    "    # Display in the notebook\n",
    "    return graph "
   ]
  },
  {
   "cell_type": "code",
   "execution_count": 11,
   "metadata": {},
   "outputs": [
    {
     "data": {
      "image/svg+xml": [
       "<?xml version=\"1.0\" encoding=\"UTF-8\" standalone=\"no\"?>\r\n",
       "<!DOCTYPE svg PUBLIC \"-//W3C//DTD SVG 1.1//EN\"\r\n",
       " \"http://www.w3.org/Graphics/SVG/1.1/DTD/svg11.dtd\">\r\n",
       "<!-- Generated by graphviz version 2.38.0 (20140413.2041)\r\n",
       " -->\r\n",
       "<!-- Title: Tree Pages: 1 -->\r\n",
       "<svg width=\"1182pt\" height=\"373pt\"\r\n",
       " viewBox=\"0.00 0.00 1182.00 373.00\" xmlns=\"http://www.w3.org/2000/svg\" xmlns:xlink=\"http://www.w3.org/1999/xlink\">\r\n",
       "<g id=\"graph0\" class=\"graph\" transform=\"scale(1 1) rotate(0) translate(4 369)\">\r\n",
       "<title>Tree</title>\r\n",
       "<polygon fill=\"white\" stroke=\"none\" points=\"-4,4 -4,-369 1178,-369 1178,4 -4,4\"/>\r\n",
       "<!-- 0 -->\r\n",
       "<g id=\"node1\" class=\"node\"><title>0</title>\r\n",
       "<path fill=\"#f7d8c2\" stroke=\"black\" d=\"M687.5,-365C687.5,-365 524.5,-365 524.5,-365 518.5,-365 512.5,-359 512.5,-353 512.5,-353 512.5,-309 512.5,-309 512.5,-303 518.5,-297 524.5,-297 524.5,-297 687.5,-297 687.5,-297 693.5,-297 699.5,-303 699.5,-309 699.5,-309 699.5,-353 699.5,-353 699.5,-359 693.5,-365 687.5,-365\"/>\r\n",
       "<text text-anchor=\"start\" x=\"520.5\" y=\"-349.8\" font-family=\"Helvetica,sans-Serif\" font-size=\"14.00\">flipper_length_mm ≤ 210.5</text>\r\n",
       "<text text-anchor=\"start\" x=\"549\" y=\"-334.8\" font-family=\"Helvetica,sans-Serif\" font-size=\"14.00\">mse = 644479.66</text>\r\n",
       "<text text-anchor=\"start\" x=\"558.5\" y=\"-319.8\" font-family=\"Helvetica,sans-Serif\" font-size=\"14.00\">samples = 233</text>\r\n",
       "<text text-anchor=\"start\" x=\"550.5\" y=\"-304.8\" font-family=\"Helvetica,sans-Serif\" font-size=\"14.00\">value = 4230.901</text>\r\n",
       "</g>\r\n",
       "<!-- 1 -->\r\n",
       "<g id=\"node2\" class=\"node\"><title>1</title>\r\n",
       "<path fill=\"#fcf2eb\" stroke=\"black\" d=\"M571.5,-261C571.5,-261 408.5,-261 408.5,-261 402.5,-261 396.5,-255 396.5,-249 396.5,-249 396.5,-205 396.5,-205 396.5,-199 402.5,-193 408.5,-193 408.5,-193 571.5,-193 571.5,-193 577.5,-193 583.5,-199 583.5,-205 583.5,-205 583.5,-249 583.5,-249 583.5,-255 577.5,-261 571.5,-261\"/>\r\n",
       "<text text-anchor=\"start\" x=\"404.5\" y=\"-245.8\" font-family=\"Helvetica,sans-Serif\" font-size=\"14.00\">flipper_length_mm ≤ 202.5</text>\r\n",
       "<text text-anchor=\"start\" x=\"429\" y=\"-230.8\" font-family=\"Helvetica,sans-Serif\" font-size=\"14.00\">mse = 211257.157</text>\r\n",
       "<text text-anchor=\"start\" x=\"442.5\" y=\"-215.8\" font-family=\"Helvetica,sans-Serif\" font-size=\"14.00\">samples = 164</text>\r\n",
       "<text text-anchor=\"start\" x=\"434.5\" y=\"-200.8\" font-family=\"Helvetica,sans-Serif\" font-size=\"14.00\">value = 3803.963</text>\r\n",
       "</g>\r\n",
       "<!-- 0&#45;&gt;1 -->\r\n",
       "<g id=\"edge1\" class=\"edge\"><title>0&#45;&gt;1</title>\r\n",
       "<path fill=\"none\" stroke=\"black\" d=\"M568.338,-296.884C557.904,-287.709 546.465,-277.65 535.63,-268.123\"/>\r\n",
       "<polygon fill=\"black\" stroke=\"black\" points=\"537.691,-265.274 527.87,-261.299 533.068,-270.531 537.691,-265.274\"/>\r\n",
       "<text text-anchor=\"middle\" x=\"529.472\" y=\"-282.548\" font-family=\"Helvetica,sans-Serif\" font-size=\"14.00\">True</text>\r\n",
       "</g>\r\n",
       "<!-- 8 -->\r\n",
       "<g id=\"node9\" class=\"node\"><title>8</title>\r\n",
       "<path fill=\"#ea9a60\" stroke=\"black\" d=\"M804.5,-261C804.5,-261 641.5,-261 641.5,-261 635.5,-261 629.5,-255 629.5,-249 629.5,-249 629.5,-205 629.5,-205 629.5,-199 635.5,-193 641.5,-193 641.5,-193 804.5,-193 804.5,-193 810.5,-193 816.5,-199 816.5,-205 816.5,-205 816.5,-249 816.5,-249 816.5,-255 810.5,-261 804.5,-261\"/>\r\n",
       "<text text-anchor=\"start\" x=\"637.5\" y=\"-245.8\" font-family=\"Helvetica,sans-Serif\" font-size=\"14.00\">flipper_length_mm ≤ 219.5</text>\r\n",
       "<text text-anchor=\"start\" x=\"666\" y=\"-230.8\" font-family=\"Helvetica,sans-Serif\" font-size=\"14.00\">mse = 211212.98</text>\r\n",
       "<text text-anchor=\"start\" x=\"679.5\" y=\"-215.8\" font-family=\"Helvetica,sans-Serif\" font-size=\"14.00\">samples = 69</text>\r\n",
       "<text text-anchor=\"start\" x=\"667.5\" y=\"-200.8\" font-family=\"Helvetica,sans-Serif\" font-size=\"14.00\">value = 5245.652</text>\r\n",
       "</g>\r\n",
       "<!-- 0&#45;&gt;8 -->\r\n",
       "<g id=\"edge8\" class=\"edge\"><title>0&#45;&gt;8</title>\r\n",
       "<path fill=\"none\" stroke=\"black\" d=\"M643.987,-296.884C654.51,-287.709 666.048,-277.65 676.977,-268.123\"/>\r\n",
       "<polygon fill=\"black\" stroke=\"black\" points=\"679.566,-270.509 684.804,-261.299 674.966,-265.233 679.566,-270.509\"/>\r\n",
       "<text text-anchor=\"middle\" x=\"683.095\" y=\"-282.541\" font-family=\"Helvetica,sans-Serif\" font-size=\"14.00\">False</text>\r\n",
       "</g>\r\n",
       "<!-- 2 -->\r\n",
       "<g id=\"node3\" class=\"node\"><title>2</title>\r\n",
       "<path fill=\"#fef9f6\" stroke=\"black\" d=\"M306.5,-157C306.5,-157 143.5,-157 143.5,-157 137.5,-157 131.5,-151 131.5,-145 131.5,-145 131.5,-101 131.5,-101 131.5,-95 137.5,-89 143.5,-89 143.5,-89 306.5,-89 306.5,-89 312.5,-89 318.5,-95 318.5,-101 318.5,-101 318.5,-145 318.5,-145 318.5,-151 312.5,-157 306.5,-157\"/>\r\n",
       "<text text-anchor=\"start\" x=\"139.5\" y=\"-141.8\" font-family=\"Helvetica,sans-Serif\" font-size=\"14.00\">flipper_length_mm ≤ 194.5</text>\r\n",
       "<text text-anchor=\"start\" x=\"164\" y=\"-126.8\" font-family=\"Helvetica,sans-Serif\" font-size=\"14.00\">mse = 152694.869</text>\r\n",
       "<text text-anchor=\"start\" x=\"177.5\" y=\"-111.8\" font-family=\"Helvetica,sans-Serif\" font-size=\"14.00\">samples = 137</text>\r\n",
       "<text text-anchor=\"start\" x=\"169.5\" y=\"-96.8\" font-family=\"Helvetica,sans-Serif\" font-size=\"14.00\">value = 3690.146</text>\r\n",
       "</g>\r\n",
       "<!-- 1&#45;&gt;2 -->\r\n",
       "<g id=\"edge2\" class=\"edge\"><title>1&#45;&gt;2</title>\r\n",
       "<path fill=\"none\" stroke=\"black\" d=\"M403.962,-192.884C377.33,-182.633 347.83,-171.278 320.591,-160.794\"/>\r\n",
       "<polygon fill=\"black\" stroke=\"black\" points=\"321.649,-157.451 311.059,-157.125 319.135,-163.983 321.649,-157.451\"/>\r\n",
       "</g>\r\n",
       "<!-- 5 -->\r\n",
       "<g id=\"node6\" class=\"node\"><title>5</title>\r\n",
       "<path fill=\"#f5cfb3\" stroke=\"black\" d=\"M560,-157C560,-157 420,-157 420,-157 414,-157 408,-151 408,-145 408,-145 408,-101 408,-101 408,-95 414,-89 420,-89 420,-89 560,-89 560,-89 566,-89 572,-95 572,-101 572,-101 572,-145 572,-145 572,-151 566,-157 560,-157\"/>\r\n",
       "<text text-anchor=\"start\" x=\"416\" y=\"-141.8\" font-family=\"Helvetica,sans-Serif\" font-size=\"14.00\">bill_length_mm ≤ 48.85</text>\r\n",
       "<text text-anchor=\"start\" x=\"429\" y=\"-126.8\" font-family=\"Helvetica,sans-Serif\" font-size=\"14.00\">mse = 109147.805</text>\r\n",
       "<text text-anchor=\"start\" x=\"446.5\" y=\"-111.8\" font-family=\"Helvetica,sans-Serif\" font-size=\"14.00\">samples = 27</text>\r\n",
       "<text text-anchor=\"start\" x=\"434.5\" y=\"-96.8\" font-family=\"Helvetica,sans-Serif\" font-size=\"14.00\">value = 4381.481</text>\r\n",
       "</g>\r\n",
       "<!-- 1&#45;&gt;5 -->\r\n",
       "<g id=\"edge5\" class=\"edge\"><title>1&#45;&gt;5</title>\r\n",
       "<path fill=\"none\" stroke=\"black\" d=\"M490,-192.884C490,-184.778 490,-175.982 490,-167.472\"/>\r\n",
       "<polygon fill=\"black\" stroke=\"black\" points=\"493.5,-167.299 490,-157.299 486.5,-167.299 493.5,-167.299\"/>\r\n",
       "</g>\r\n",
       "<!-- 3 -->\r\n",
       "<g id=\"node4\" class=\"node\"><title>3</title>\r\n",
       "<path fill=\"#ffffff\" stroke=\"black\" d=\"M126,-53C126,-53 12,-53 12,-53 6,-53 0,-47 0,-41 0,-41 0,-12 0,-12 0,-6 6,-0 12,-0 12,-0 126,-0 126,-0 132,-0 138,-6 138,-12 138,-12 138,-41 138,-41 138,-47 132,-53 126,-53\"/>\r\n",
       "<text text-anchor=\"start\" x=\"8\" y=\"-37.8\" font-family=\"Helvetica,sans-Serif\" font-size=\"14.00\">mse = 135322.222</text>\r\n",
       "<text text-anchor=\"start\" x=\"25.5\" y=\"-22.8\" font-family=\"Helvetica,sans-Serif\" font-size=\"14.00\">samples = 90</text>\r\n",
       "<text text-anchor=\"start\" x=\"22\" y=\"-7.8\" font-family=\"Helvetica,sans-Serif\" font-size=\"14.00\">value = 3595.0</text>\r\n",
       "</g>\r\n",
       "<!-- 2&#45;&gt;3 -->\r\n",
       "<g id=\"edge3\" class=\"edge\"><title>2&#45;&gt;3</title>\r\n",
       "<path fill=\"none\" stroke=\"black\" d=\"M170.439,-88.9485C154.129,-79.0686 136.312,-68.2758 120.225,-58.5305\"/>\r\n",
       "<polygon fill=\"black\" stroke=\"black\" points=\"121.853,-55.4244 111.486,-53.2367 118.226,-61.4115 121.853,-55.4244\"/>\r\n",
       "</g>\r\n",
       "<!-- 4 -->\r\n",
       "<g id=\"node5\" class=\"node\"><title>4</title>\r\n",
       "<path fill=\"#fbeee4\" stroke=\"black\" d=\"M282,-53C282,-53 168,-53 168,-53 162,-53 156,-47 156,-41 156,-41 156,-12 156,-12 156,-6 162,-0 168,-0 168,-0 282,-0 282,-0 288,-0 294,-6 294,-12 294,-12 294,-41 294,-41 294,-47 288,-53 282,-53\"/>\r\n",
       "<text text-anchor=\"start\" x=\"164\" y=\"-37.8\" font-family=\"Helvetica,sans-Serif\" font-size=\"14.00\">mse = 135431.756</text>\r\n",
       "<text text-anchor=\"start\" x=\"181.5\" y=\"-22.8\" font-family=\"Helvetica,sans-Serif\" font-size=\"14.00\">samples = 47</text>\r\n",
       "<text text-anchor=\"start\" x=\"173.5\" y=\"-7.8\" font-family=\"Helvetica,sans-Serif\" font-size=\"14.00\">value = 3872.34</text>\r\n",
       "</g>\r\n",
       "<!-- 2&#45;&gt;4 -->\r\n",
       "<g id=\"edge4\" class=\"edge\"><title>2&#45;&gt;4</title>\r\n",
       "<path fill=\"none\" stroke=\"black\" d=\"M225,-88.9485C225,-80.7153 225,-71.848 225,-63.4814\"/>\r\n",
       "<polygon fill=\"black\" stroke=\"black\" points=\"228.5,-63.2367 225,-53.2367 221.5,-63.2367 228.5,-63.2367\"/>\r\n",
       "</g>\r\n",
       "<!-- 6 -->\r\n",
       "<g id=\"node7\" class=\"node\"><title>6</title>\r\n",
       "<path fill=\"#f4caac\" stroke=\"black\" d=\"M438,-53C438,-53 324,-53 324,-53 318,-53 312,-47 312,-41 312,-41 312,-12 312,-12 312,-6 318,-0 324,-0 324,-0 438,-0 438,-0 444,-0 450,-6 450,-12 450,-12 450,-41 450,-41 450,-47 444,-53 438,-53\"/>\r\n",
       "<text text-anchor=\"start\" x=\"320\" y=\"-37.8\" font-family=\"Helvetica,sans-Serif\" font-size=\"14.00\">mse = 101533.934</text>\r\n",
       "<text text-anchor=\"start\" x=\"337.5\" y=\"-22.8\" font-family=\"Helvetica,sans-Serif\" font-size=\"14.00\">samples = 19</text>\r\n",
       "<text text-anchor=\"start\" x=\"325.5\" y=\"-7.8\" font-family=\"Helvetica,sans-Serif\" font-size=\"14.00\">value = 4460.526</text>\r\n",
       "</g>\r\n",
       "<!-- 5&#45;&gt;6 -->\r\n",
       "<g id=\"edge6\" class=\"edge\"><title>5&#45;&gt;6</title>\r\n",
       "<path fill=\"none\" stroke=\"black\" d=\"M451.877,-88.9485C441.009,-79.526 429.183,-69.2731 418.361,-59.8906\"/>\r\n",
       "<polygon fill=\"black\" stroke=\"black\" points=\"420.534,-57.1428 410.686,-53.2367 415.949,-62.4319 420.534,-57.1428\"/>\r\n",
       "</g>\r\n",
       "<!-- 7 -->\r\n",
       "<g id=\"node8\" class=\"node\"><title>7</title>\r\n",
       "<path fill=\"#f7dac5\" stroke=\"black\" d=\"M586,-53C586,-53 480,-53 480,-53 474,-53 468,-47 468,-41 468,-41 468,-12 468,-12 468,-6 474,-0 480,-0 480,-0 586,-0 586,-0 592,-0 598,-6 598,-12 598,-12 598,-41 598,-41 598,-47 592,-53 586,-53\"/>\r\n",
       "<text text-anchor=\"start\" x=\"476\" y=\"-37.8\" font-family=\"Helvetica,sans-Serif\" font-size=\"14.00\">mse = 77148.438</text>\r\n",
       "<text text-anchor=\"start\" x=\"493.5\" y=\"-22.8\" font-family=\"Helvetica,sans-Serif\" font-size=\"14.00\">samples = 8</text>\r\n",
       "<text text-anchor=\"start\" x=\"481.5\" y=\"-7.8\" font-family=\"Helvetica,sans-Serif\" font-size=\"14.00\">value = 4193.75</text>\r\n",
       "</g>\r\n",
       "<!-- 5&#45;&gt;7 -->\r\n",
       "<g id=\"edge7\" class=\"edge\"><title>5&#45;&gt;7</title>\r\n",
       "<path fill=\"none\" stroke=\"black\" d=\"M505.039,-88.9485C508.952,-80.3494 513.18,-71.0586 517.134,-62.3689\"/>\r\n",
       "<polygon fill=\"black\" stroke=\"black\" points=\"520.333,-63.7883 521.289,-53.2367 513.962,-60.8891 520.333,-63.7883\"/>\r\n",
       "</g>\r\n",
       "<!-- 9 -->\r\n",
       "<g id=\"node10\" class=\"node\"><title>9</title>\r\n",
       "<path fill=\"#eda877\" stroke=\"black\" d=\"M793,-157C793,-157 653,-157 653,-157 647,-157 641,-151 641,-145 641,-145 641,-101 641,-101 641,-95 647,-89 653,-89 653,-89 793,-89 793,-89 799,-89 805,-95 805,-101 805,-101 805,-145 805,-145 805,-151 799,-157 793,-157\"/>\r\n",
       "<text text-anchor=\"start\" x=\"649\" y=\"-141.8\" font-family=\"Helvetica,sans-Serif\" font-size=\"14.00\">bill_length_mm ≤ 49.75</text>\r\n",
       "<text text-anchor=\"start\" x=\"666\" y=\"-126.8\" font-family=\"Helvetica,sans-Serif\" font-size=\"14.00\">mse = 156193.75</text>\r\n",
       "<text text-anchor=\"start\" x=\"679.5\" y=\"-111.8\" font-family=\"Helvetica,sans-Serif\" font-size=\"14.00\">samples = 40</text>\r\n",
       "<text text-anchor=\"start\" x=\"676\" y=\"-96.8\" font-family=\"Helvetica,sans-Serif\" font-size=\"14.00\">value = 5007.5</text>\r\n",
       "</g>\r\n",
       "<!-- 8&#45;&gt;9 -->\r\n",
       "<g id=\"edge9\" class=\"edge\"><title>8&#45;&gt;9</title>\r\n",
       "<path fill=\"none\" stroke=\"black\" d=\"M723,-192.884C723,-184.778 723,-175.982 723,-167.472\"/>\r\n",
       "<polygon fill=\"black\" stroke=\"black\" points=\"726.5,-167.299 723,-157.299 719.5,-167.299 726.5,-167.299\"/>\r\n",
       "</g>\r\n",
       "<!-- 12 -->\r\n",
       "<g id=\"node13\" class=\"node\"><title>12</title>\r\n",
       "<path fill=\"#e68641\" stroke=\"black\" d=\"M1031,-157C1031,-157 891,-157 891,-157 885,-157 879,-151 879,-145 879,-145 879,-101 879,-101 879,-95 885,-89 891,-89 891,-89 1031,-89 1031,-89 1037,-89 1043,-95 1043,-101 1043,-101 1043,-145 1043,-145 1043,-151 1037,-157 1031,-157\"/>\r\n",
       "<text text-anchor=\"start\" x=\"887\" y=\"-141.8\" font-family=\"Helvetica,sans-Serif\" font-size=\"14.00\">bill_length_mm ≤ 48.55</text>\r\n",
       "<text text-anchor=\"start\" x=\"900\" y=\"-126.8\" font-family=\"Helvetica,sans-Serif\" font-size=\"14.00\">mse = 100969.084</text>\r\n",
       "<text text-anchor=\"start\" x=\"917.5\" y=\"-111.8\" font-family=\"Helvetica,sans-Serif\" font-size=\"14.00\">samples = 29</text>\r\n",
       "<text text-anchor=\"start\" x=\"905.5\" y=\"-96.8\" font-family=\"Helvetica,sans-Serif\" font-size=\"14.00\">value = 5574.138</text>\r\n",
       "</g>\r\n",
       "<!-- 8&#45;&gt;12 -->\r\n",
       "<g id=\"edge12\" class=\"edge\"><title>8&#45;&gt;12</title>\r\n",
       "<path fill=\"none\" stroke=\"black\" d=\"M800.272,-192.884C823.982,-182.722 850.222,-171.476 874.507,-161.069\"/>\r\n",
       "<polygon fill=\"black\" stroke=\"black\" points=\"875.896,-164.281 883.709,-157.125 873.139,-157.847 875.896,-164.281\"/>\r\n",
       "</g>\r\n",
       "<!-- 10 -->\r\n",
       "<g id=\"node11\" class=\"node\"><title>10</title>\r\n",
       "<path fill=\"#eeac7d\" stroke=\"black\" d=\"M734,-53C734,-53 628,-53 628,-53 622,-53 616,-47 616,-41 616,-41 616,-12 616,-12 616,-6 622,-0 628,-0 628,-0 734,-0 734,-0 740,-0 746,-6 746,-12 746,-12 746,-41 746,-41 746,-47 740,-53 734,-53\"/>\r\n",
       "<text text-anchor=\"start\" x=\"624\" y=\"-37.8\" font-family=\"Helvetica,sans-Serif\" font-size=\"14.00\">mse = 131913.58</text>\r\n",
       "<text text-anchor=\"start\" x=\"637.5\" y=\"-22.8\" font-family=\"Helvetica,sans-Serif\" font-size=\"14.00\">samples = 36</text>\r\n",
       "<text text-anchor=\"start\" x=\"625.5\" y=\"-7.8\" font-family=\"Helvetica,sans-Serif\" font-size=\"14.00\">value = 4944.444</text>\r\n",
       "</g>\r\n",
       "<!-- 9&#45;&gt;10 -->\r\n",
       "<g id=\"edge10\" class=\"edge\"><title>9&#45;&gt;10</title>\r\n",
       "<path fill=\"none\" stroke=\"black\" d=\"M708.31,-88.9485C704.529,-80.4408 700.447,-71.2562 696.621,-62.6464\"/>\r\n",
       "<polygon fill=\"black\" stroke=\"black\" points=\"699.698,-60.9533 692.439,-53.2367 693.302,-63.7963 699.698,-60.9533\"/>\r\n",
       "</g>\r\n",
       "<!-- 11 -->\r\n",
       "<g id=\"node12\" class=\"node\"><title>11</title>\r\n",
       "<path fill=\"#e68640\" stroke=\"black\" d=\"M865.5,-53C865.5,-53 776.5,-53 776.5,-53 770.5,-53 764.5,-47 764.5,-41 764.5,-41 764.5,-12 764.5,-12 764.5,-6 770.5,-0 776.5,-0 776.5,-0 865.5,-0 865.5,-0 871.5,-0 877.5,-6 877.5,-12 877.5,-12 877.5,-41 877.5,-41 877.5,-47 871.5,-53 865.5,-53\"/>\r\n",
       "<text text-anchor=\"start\" x=\"772.5\" y=\"-37.8\" font-family=\"Helvetica,sans-Serif\" font-size=\"14.00\">mse = 16875.0</text>\r\n",
       "<text text-anchor=\"start\" x=\"781.5\" y=\"-22.8\" font-family=\"Helvetica,sans-Serif\" font-size=\"14.00\">samples = 4</text>\r\n",
       "<text text-anchor=\"start\" x=\"774\" y=\"-7.8\" font-family=\"Helvetica,sans-Serif\" font-size=\"14.00\">value = 5575.0</text>\r\n",
       "</g>\r\n",
       "<!-- 9&#45;&gt;11 -->\r\n",
       "<g id=\"edge11\" class=\"edge\"><title>9&#45;&gt;11</title>\r\n",
       "<path fill=\"none\" stroke=\"black\" d=\"M757.276,-88.9485C766.857,-79.709 777.267,-69.671 786.842,-60.4381\"/>\r\n",
       "<polygon fill=\"black\" stroke=\"black\" points=\"789.541,-62.6976 794.31,-53.2367 784.682,-57.6586 789.541,-62.6976\"/>\r\n",
       "</g>\r\n",
       "<!-- 13 -->\r\n",
       "<g id=\"node14\" class=\"node\"><title>13</title>\r\n",
       "<path fill=\"#e99558\" stroke=\"black\" d=\"M1014,-53C1014,-53 908,-53 908,-53 902,-53 896,-47 896,-41 896,-41 896,-12 896,-12 896,-6 902,-0 908,-0 908,-0 1014,-0 1014,-0 1020,-0 1026,-6 1026,-12 1026,-12 1026,-41 1026,-41 1026,-47 1020,-53 1014,-53\"/>\r\n",
       "<text text-anchor=\"start\" x=\"904\" y=\"-37.8\" font-family=\"Helvetica,sans-Serif\" font-size=\"14.00\">mse = 79897.959</text>\r\n",
       "<text text-anchor=\"start\" x=\"921.5\" y=\"-22.8\" font-family=\"Helvetica,sans-Serif\" font-size=\"14.00\">samples = 7</text>\r\n",
       "<text text-anchor=\"start\" x=\"905.5\" y=\"-7.8\" font-family=\"Helvetica,sans-Serif\" font-size=\"14.00\">value = 5328.571</text>\r\n",
       "</g>\r\n",
       "<!-- 12&#45;&gt;13 -->\r\n",
       "<g id=\"edge13\" class=\"edge\"><title>12&#45;&gt;13</title>\r\n",
       "<path fill=\"none\" stroke=\"black\" d=\"M961,-88.9485C961,-80.7153 961,-71.848 961,-63.4814\"/>\r\n",
       "<polygon fill=\"black\" stroke=\"black\" points=\"964.5,-63.2367 961,-53.2367 957.5,-63.2367 964.5,-63.2367\"/>\r\n",
       "</g>\r\n",
       "<!-- 14 -->\r\n",
       "<g id=\"node15\" class=\"node\"><title>14</title>\r\n",
       "<path fill=\"#e58139\" stroke=\"black\" d=\"M1162,-53C1162,-53 1056,-53 1056,-53 1050,-53 1044,-47 1044,-41 1044,-41 1044,-12 1044,-12 1044,-6 1050,-0 1056,-0 1056,-0 1162,-0 1162,-0 1168,-0 1174,-6 1174,-12 1174,-12 1174,-41 1174,-41 1174,-47 1168,-53 1162,-53\"/>\r\n",
       "<text text-anchor=\"start\" x=\"1052\" y=\"-37.8\" font-family=\"Helvetica,sans-Serif\" font-size=\"14.00\">mse = 82381.198</text>\r\n",
       "<text text-anchor=\"start\" x=\"1065.5\" y=\"-22.8\" font-family=\"Helvetica,sans-Serif\" font-size=\"14.00\">samples = 22</text>\r\n",
       "<text text-anchor=\"start\" x=\"1053.5\" y=\"-7.8\" font-family=\"Helvetica,sans-Serif\" font-size=\"14.00\">value = 5652.273</text>\r\n",
       "</g>\r\n",
       "<!-- 12&#45;&gt;14 -->\r\n",
       "<g id=\"edge14\" class=\"edge\"><title>12&#45;&gt;14</title>\r\n",
       "<path fill=\"none\" stroke=\"black\" d=\"M1012.76,-88.9485C1028.09,-79.1601 1044.83,-68.4756 1059.98,-58.8015\"/>\r\n",
       "<polygon fill=\"black\" stroke=\"black\" points=\"1062.15,-61.5683 1068.69,-53.2367 1058.38,-55.6685 1062.15,-61.5683\"/>\r\n",
       "</g>\r\n",
       "</g>\r\n",
       "</svg>\r\n"
      ],
      "text/plain": [
       "<graphviz.files.Source at 0x285e42f0e20>"
      ]
     },
     "execution_count": 11,
     "metadata": {},
     "output_type": "execute_result"
    }
   ],
   "source": [
    "plot_tree_regression(dt_regression, features)"
   ]
  },
  {
   "cell_type": "code",
   "execution_count": 12,
   "metadata": {},
   "outputs": [],
   "source": [
    "def calculate_rmse(predictions, actuals):\n",
    "    if(len(predictions) != len(actuals)):\n",
    "        raise Exception(\"The amount of predictions did not equal the amount of actuals\")\n",
    "    \n",
    "    return (((predictions - actuals) ** 2).sum() / len(actuals)) ** (1/2)"
   ]
  },
  {
   "cell_type": "code",
   "execution_count": 13,
   "metadata": {},
   "outputs": [
    {
     "name": "stdout",
     "output_type": "stream",
     "text": [
      "RMSE on training set 348.37874508841065\n",
      "RMSE on test set 403.8548465547442\n"
     ]
    }
   ],
   "source": [
    "predictionsOnTrainset = dt_regression.predict(pen_train[features])\n",
    "predictionsOnTestset = dt_regression.predict(pen_test[features])\n",
    "\n",
    "rmseTrain = calculate_rmse(predictionsOnTrainset, pen_train.body_mass_g)\n",
    "rmseTest = calculate_rmse(predictionsOnTestset, pen_test.body_mass_g)\n",
    "\n",
    "print(\"RMSE on training set \" + str(rmseTrain))\n",
    "print(\"RMSE on test set \" + str(rmseTest))"
   ]
  },
  {
   "cell_type": "markdown",
   "metadata": {},
   "source": [
    "De RMSE is tussen de training en test niet hetzelfde, het verschil is best groot. De uitkomst is dat dus ook dat de trainingset prediction gemiddeld een accurater is dan dat van de testset. Ook dit is logisch omdat de testset maar 30% van alle data heeft kunnen analyseren"
   ]
  },
  {
   "cell_type": "markdown",
   "metadata": {},
   "source": [
    "Ik vind de tree plot altijd maar een beetje onduidelijk, op een gegeven moment gaat hij over in de keuzes tussen drie verschillende bill length's en maar 1 flipper length."
   ]
  },
  {
   "cell_type": "markdown",
   "metadata": {},
   "source": [
    "RMSE = It measures the average difference between values predicted by a model and the actual values."
   ]
  }
 ],
 "metadata": {
  "kernelspec": {
   "display_name": "Python 3 (ipykernel)",
   "language": "python",
   "name": "python3"
  },
  "language_info": {
   "codemirror_mode": {
    "name": "ipython",
    "version": 3
   },
   "file_extension": ".py",
   "mimetype": "text/x-python",
   "name": "python",
   "nbconvert_exporter": "python",
   "pygments_lexer": "ipython3",
   "version": "3.9.7"
  },
  "vscode": {
   "interpreter": {
    "hash": "ad2bdc8ecc057115af97d19610ffacc2b4e99fae6737bb82f5d7fb13d2f2c186"
   }
  }
 },
 "nbformat": 4,
 "nbformat_minor": 2
}
