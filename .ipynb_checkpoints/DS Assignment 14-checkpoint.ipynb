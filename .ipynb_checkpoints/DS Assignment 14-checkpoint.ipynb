{
 "cells": [
  {
   "cell_type": "code",
   "execution_count": 1,
   "metadata": {},
   "outputs": [],
   "source": [
    "import pandas as pd\n",
    "import seaborn as sns"
   ]
  },
  {
   "cell_type": "code",
   "execution_count": 2,
   "metadata": {},
   "outputs": [],
   "source": [
    "cigs = pd.read_csv('cigs.csv')"
   ]
  },
  {
   "cell_type": "code",
   "execution_count": 3,
   "metadata": {},
   "outputs": [
    {
     "data": {
      "text/html": [
       "<div>\n",
       "<style scoped>\n",
       "    .dataframe tbody tr th:only-of-type {\n",
       "        vertical-align: middle;\n",
       "    }\n",
       "\n",
       "    .dataframe tbody tr th {\n",
       "        vertical-align: top;\n",
       "    }\n",
       "\n",
       "    .dataframe thead th {\n",
       "        text-align: right;\n",
       "    }\n",
       "</style>\n",
       "<table border=\"1\" class=\"dataframe\">\n",
       "  <thead>\n",
       "    <tr style=\"text-align: right;\">\n",
       "      <th></th>\n",
       "      <th>Brand_Name</th>\n",
       "      <th>flavor</th>\n",
       "      <th>CO</th>\n",
       "      <th>nic</th>\n",
       "      <th>tar</th>\n",
       "      <th>size</th>\n",
       "      <th>filter</th>\n",
       "      <th>pack</th>\n",
       "      <th>menthol</th>\n",
       "    </tr>\n",
       "  </thead>\n",
       "  <tbody>\n",
       "    <tr>\n",
       "      <th>0</th>\n",
       "      <td>Alpine</td>\n",
       "      <td>NaN</td>\n",
       "      <td>15</td>\n",
       "      <td>1.1</td>\n",
       "      <td>16.0</td>\n",
       "      <td>100</td>\n",
       "      <td>F</td>\n",
       "      <td>SP</td>\n",
       "      <td>yes</td>\n",
       "    </tr>\n",
       "    <tr>\n",
       "      <th>1</th>\n",
       "      <td>Alpine</td>\n",
       "      <td>Lt</td>\n",
       "      <td>12</td>\n",
       "      <td>0.8</td>\n",
       "      <td>10.0</td>\n",
       "      <td>100</td>\n",
       "      <td>F</td>\n",
       "      <td>SP</td>\n",
       "      <td>yes</td>\n",
       "    </tr>\n",
       "    <tr>\n",
       "      <th>2</th>\n",
       "      <td>Alpine</td>\n",
       "      <td>NaN</td>\n",
       "      <td>15</td>\n",
       "      <td>1.1</td>\n",
       "      <td>16.0</td>\n",
       "      <td>King</td>\n",
       "      <td>F</td>\n",
       "      <td>HP</td>\n",
       "      <td>yes</td>\n",
       "    </tr>\n",
       "    <tr>\n",
       "      <th>3</th>\n",
       "      <td>Alpine</td>\n",
       "      <td>Lt</td>\n",
       "      <td>11</td>\n",
       "      <td>0.7</td>\n",
       "      <td>10.0</td>\n",
       "      <td>King</td>\n",
       "      <td>F</td>\n",
       "      <td>HP</td>\n",
       "      <td>yes</td>\n",
       "    </tr>\n",
       "    <tr>\n",
       "      <th>4</th>\n",
       "      <td>Alpine</td>\n",
       "      <td>NaN</td>\n",
       "      <td>16</td>\n",
       "      <td>1.0</td>\n",
       "      <td>16.0</td>\n",
       "      <td>King</td>\n",
       "      <td>F</td>\n",
       "      <td>SP</td>\n",
       "      <td>yes</td>\n",
       "    </tr>\n",
       "  </tbody>\n",
       "</table>\n",
       "</div>"
      ],
      "text/plain": [
       "  Brand_Name flavor  CO  nic   tar  size filter pack menthol\n",
       "0    Alpine     NaN  15  1.1  16.0   100      F   SP     yes\n",
       "1    Alpine      Lt  12  0.8  10.0   100      F   SP     yes\n",
       "2    Alpine     NaN  15  1.1  16.0  King      F   HP     yes\n",
       "3    Alpine      Lt  11  0.7  10.0  King      F   HP     yes\n",
       "4    Alpine     NaN  16  1.0  16.0  King      F   SP     yes"
      ]
     },
     "execution_count": 3,
     "metadata": {},
     "output_type": "execute_result"
    }
   ],
   "source": [
    "cigs.head()"
   ]
  },
  {
   "cell_type": "markdown",
   "metadata": {},
   "source": [
    "Ik zal een bivariate analysiss cat vs cat uitvoeren op pack en size"
   ]
  },
  {
   "cell_type": "markdown",
   "metadata": {},
   "source": [
    "Ik verwacht een correlatie tussen pack en size, omdat ik ervan uitga dat grotere sizes ook een harde verpakking hebben om zo de inhoud beter te beschermen."
   ]
  },
  {
   "cell_type": "code",
   "execution_count": 4,
   "metadata": {},
   "outputs": [],
   "source": [
    "def create_contingency_table(dataset, column1, column2):\n",
    "    return dataset.groupby([column1, column2]).size().unstack(column1, fill_value=0)"
   ]
  },
  {
   "cell_type": "code",
   "execution_count": 5,
   "metadata": {},
   "outputs": [],
   "source": [
    "cigsCTable = create_contingency_table(cigs, 'pack','size')"
   ]
  },
  {
   "cell_type": "code",
   "execution_count": 6,
   "metadata": {},
   "outputs": [
    {
     "data": {
      "text/plain": [
       "<AxesSubplot:xlabel='size'>"
      ]
     },
     "execution_count": 6,
     "metadata": {},
     "output_type": "execute_result"
    },
    {
     "data": {
      "image/png": "[encoded data removed]",
      "text/plain": [
       "<Figure size 432x288 with 1 Axes>"
      ]
     },
     "metadata": {
      "needs_background": "light"
     },
     "output_type": "display_data"
    }
   ],
   "source": [
    "cigsCTable.plot(kind='bar')"
   ]
  },
  {
   "cell_type": "markdown",
   "metadata": {},
   "source": [
    "Mijn verwachting is dus niet juist, want ik verwachtte een correlatie tussen pack en size op basis van bescherming. Maar er blijkt hieruit dat bij het kiezen van een 100 of kingsize dat de kans erg groot is dat er een zachtere verpakking wordt gebruikt."
   ]
  },
  {
   "cell_type": "code",
   "execution_count": 7,
   "metadata": {},
   "outputs": [],
   "source": [
    "from scipy.stats import chi2_contingency\n",
    "def check_cat_vs_cat_correlation(dataset, column1, column2):\n",
    "    contingency_table = create_contingency_table(dataset, column1, column2)\n",
    "    chi2 = chi2_contingency(contingency_table)\n",
    "    p_value = chi2[1]\n",
    "    odds_of_correlation = 1 - p_value\n",
    "    print(f\"The odds of a correlation between {column1} and {column2} is {odds_of_correlation * 100}% (Based on a p value of {p_value}).\")\n",
    "    print(\"This percentage needs to be at least 95% for a significant correlation.\")"
   ]
  },
  {
   "cell_type": "code",
   "execution_count": 8,
   "metadata": {},
   "outputs": [
    {
     "name": "stdout",
     "output_type": "stream",
     "text": [
      "The odds of a correlation between pack and size is 99.99725343316486% (Based on a p value of 2.7465668351402392e-05).\n",
      "This percentage needs to be at least 95% for a significant correlation.\n"
     ]
    }
   ],
   "source": [
    "check_cat_vs_cat_correlation(cigs, 'pack','size')"
   ]
  },
  {
   "cell_type": "markdown",
   "metadata": {},
   "source": [
    "Hieruit komt dat de kans op correlatie 99,99% is, wat ik vreemd vind aangezien bij bijvoorbeeld de 100 of kingsize de kans op een zachte verpakking niet mega groot is. Er komt bij kingsize ongeveer 150x hard voor en 400x zacht. Dat betekent dat er 27% gewoon hard is en dat vind ik vreemd aangezien de correlatie dus 100% zou moeten zijn. Dit zegt dus dat de kans dat het voor 99,99% altijd een harde of zachte verpakking is?"
   ]
  },
  {
   "cell_type": "code",
   "execution_count": null,
   "metadata": {},
   "outputs": [],
   "source": []
  }
 ],
 "metadata": {
  "kernelspec": {
   "display_name": "Python 3 (ipykernel)",
   "language": "python",
   "name": "python3"
  },
  "language_info": {
   "codemirror_mode": {
    "name": "ipython",
    "version": 3
   },
   "file_extension": ".py",
   "mimetype": "text/x-python",
   "name": "python",
   "nbconvert_exporter": "python",
   "pygments_lexer": "ipython3",
   "version": "3.9.7"
  },
  "vscode": {
   "interpreter": {
    "hash": "ad2bdc8ecc057115af97d19610ffacc2b4e99fae6737bb82f5d7fb13d2f2c186"
   }
  }
 },
 "nbformat": 4,
 "nbformat_minor": 2
}
