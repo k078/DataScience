{
 "cells": [
  {
   "cell_type": "code",
   "execution_count": 1,
   "metadata": {},
   "outputs": [],
   "source": [
    "import seaborn as sns\n",
    "import pandas as pd"
   ]
  },
  {
   "cell_type": "markdown",
   "metadata": {},
   "source": [
    "Ik merk dat de schaak dataset erg veel lege kolommen had en dat maakte het erg lastig om constant alleen 0's eruit de filteren omdat zo de rest van de data van de wedstrijd ook waardeloos werd. Ik gebruik nu een dataset over de gebruikersinformatie van sigaretten."
   ]
  },
  {
   "cell_type": "code",
   "execution_count": 2,
   "metadata": {},
   "outputs": [],
   "source": [
    "cigs = pd.read_csv('cigs.csv', sep=\",\")"
   ]
  },
  {
   "cell_type": "code",
   "execution_count": 3,
   "metadata": {},
   "outputs": [
    {
     "data": {
      "text/html": [
       "<div>\n",
       "<style scoped>\n",
       "    .dataframe tbody tr th:only-of-type {\n",
       "        vertical-align: middle;\n",
       "    }\n",
       "\n",
       "    .dataframe tbody tr th {\n",
       "        vertical-align: top;\n",
       "    }\n",
       "\n",
       "    .dataframe thead th {\n",
       "        text-align: right;\n",
       "    }\n",
       "</style>\n",
       "<table border=\"1\" class=\"dataframe\">\n",
       "  <thead>\n",
       "    <tr style=\"text-align: right;\">\n",
       "      <th></th>\n",
       "      <th>Brand_Name</th>\n",
       "      <th>flavor</th>\n",
       "      <th>CO</th>\n",
       "      <th>nic</th>\n",
       "      <th>tar</th>\n",
       "      <th>size</th>\n",
       "      <th>filter</th>\n",
       "      <th>pack</th>\n",
       "      <th>menthol</th>\n",
       "    </tr>\n",
       "  </thead>\n",
       "  <tbody>\n",
       "    <tr>\n",
       "      <th>0</th>\n",
       "      <td>Alpine</td>\n",
       "      <td>NaN</td>\n",
       "      <td>15</td>\n",
       "      <td>1.1</td>\n",
       "      <td>16.0</td>\n",
       "      <td>100</td>\n",
       "      <td>F</td>\n",
       "      <td>SP</td>\n",
       "      <td>yes</td>\n",
       "    </tr>\n",
       "    <tr>\n",
       "      <th>1</th>\n",
       "      <td>Alpine</td>\n",
       "      <td>Lt</td>\n",
       "      <td>12</td>\n",
       "      <td>0.8</td>\n",
       "      <td>10.0</td>\n",
       "      <td>100</td>\n",
       "      <td>F</td>\n",
       "      <td>SP</td>\n",
       "      <td>yes</td>\n",
       "    </tr>\n",
       "    <tr>\n",
       "      <th>2</th>\n",
       "      <td>Alpine</td>\n",
       "      <td>NaN</td>\n",
       "      <td>15</td>\n",
       "      <td>1.1</td>\n",
       "      <td>16.0</td>\n",
       "      <td>King</td>\n",
       "      <td>F</td>\n",
       "      <td>HP</td>\n",
       "      <td>yes</td>\n",
       "    </tr>\n",
       "    <tr>\n",
       "      <th>3</th>\n",
       "      <td>Alpine</td>\n",
       "      <td>Lt</td>\n",
       "      <td>11</td>\n",
       "      <td>0.7</td>\n",
       "      <td>10.0</td>\n",
       "      <td>King</td>\n",
       "      <td>F</td>\n",
       "      <td>HP</td>\n",
       "      <td>yes</td>\n",
       "    </tr>\n",
       "    <tr>\n",
       "      <th>4</th>\n",
       "      <td>Alpine</td>\n",
       "      <td>NaN</td>\n",
       "      <td>16</td>\n",
       "      <td>1.0</td>\n",
       "      <td>16.0</td>\n",
       "      <td>King</td>\n",
       "      <td>F</td>\n",
       "      <td>SP</td>\n",
       "      <td>yes</td>\n",
       "    </tr>\n",
       "  </tbody>\n",
       "</table>\n",
       "</div>"
      ],
      "text/plain": [
       "  Brand_Name flavor  CO  nic   tar  size filter pack menthol\n",
       "0    Alpine     NaN  15  1.1  16.0   100      F   SP     yes\n",
       "1    Alpine      Lt  12  0.8  10.0   100      F   SP     yes\n",
       "2    Alpine     NaN  15  1.1  16.0  King      F   HP     yes\n",
       "3    Alpine      Lt  11  0.7  10.0  King      F   HP     yes\n",
       "4    Alpine     NaN  16  1.0  16.0  King      F   SP     yes"
      ]
     },
     "execution_count": 3,
     "metadata": {},
     "output_type": "execute_result"
    }
   ],
   "source": [
    "cigs.head()"
   ]
  },
  {
   "cell_type": "code",
   "execution_count": 4,
   "metadata": {},
   "outputs": [
    {
     "data": {
      "text/html": [
       "<style type=\"text/css\">\n",
       "#T_e4542_row0_col0, #T_e4542_row1_col1, #T_e4542_row2_col2 {\n",
       "  background-color: #b40426;\n",
       "  color: #f1f1f1;\n",
       "}\n",
       "#T_e4542_row0_col1, #T_e4542_row1_col0 {\n",
       "  background-color: #3b4cc0;\n",
       "  color: #f1f1f1;\n",
       "}\n",
       "#T_e4542_row0_col2, #T_e4542_row2_col0 {\n",
       "  background-color: #c6d6f1;\n",
       "  color: #000000;\n",
       "}\n",
       "#T_e4542_row1_col2, #T_e4542_row2_col1 {\n",
       "  background-color: #f6a385;\n",
       "  color: #000000;\n",
       "}\n",
       "</style>\n",
       "<table id=\"T_e4542_\">\n",
       "  <thead>\n",
       "    <tr>\n",
       "      <th class=\"blank level0\" >&nbsp;</th>\n",
       "      <th class=\"col_heading level0 col0\" >CO</th>\n",
       "      <th class=\"col_heading level0 col1\" >nic</th>\n",
       "      <th class=\"col_heading level0 col2\" >tar</th>\n",
       "    </tr>\n",
       "  </thead>\n",
       "  <tbody>\n",
       "    <tr>\n",
       "      <th id=\"T_e4542_level0_row0\" class=\"row_heading level0 row0\" >CO</th>\n",
       "      <td id=\"T_e4542_row0_col0\" class=\"data row0 col0\" >1.00</td>\n",
       "      <td id=\"T_e4542_row0_col1\" class=\"data row0 col1\" >0.70</td>\n",
       "      <td id=\"T_e4542_row0_col2\" class=\"data row0 col2\" >0.83</td>\n",
       "    </tr>\n",
       "    <tr>\n",
       "      <th id=\"T_e4542_level0_row1\" class=\"row_heading level0 row1\" >nic</th>\n",
       "      <td id=\"T_e4542_row1_col0\" class=\"data row1 col0\" >0.70</td>\n",
       "      <td id=\"T_e4542_row1_col1\" class=\"data row1 col1\" >1.00</td>\n",
       "      <td id=\"T_e4542_row1_col2\" class=\"data row1 col2\" >0.92</td>\n",
       "    </tr>\n",
       "    <tr>\n",
       "      <th id=\"T_e4542_level0_row2\" class=\"row_heading level0 row2\" >tar</th>\n",
       "      <td id=\"T_e4542_row2_col0\" class=\"data row2 col0\" >0.83</td>\n",
       "      <td id=\"T_e4542_row2_col1\" class=\"data row2 col1\" >0.92</td>\n",
       "      <td id=\"T_e4542_row2_col2\" class=\"data row2 col2\" >1.00</td>\n",
       "    </tr>\n",
       "  </tbody>\n",
       "</table>\n"
      ],
      "text/plain": [
       "<pandas.io.formats.style.Styler at 0x21b83b491c0>"
      ]
     },
     "execution_count": 4,
     "metadata": {},
     "output_type": "execute_result"
    }
   ],
   "source": [
    "cigscorr = cigs.corr()\n",
    "cigscorr.style.background_gradient(cmap='coolwarm', axis=None).format(precision=2)"
   ]
  },
  {
   "cell_type": "code",
   "execution_count": 5,
   "metadata": {},
   "outputs": [
    {
     "data": {
      "text/plain": [
       "<AxesSubplot:xlabel='CO', ylabel='tar'>"
      ]
     },
     "execution_count": 5,
     "metadata": {},
     "output_type": "execute_result"
    },
    {
     "data": {
      "image/png": "[encoded data removed]",
      "text/plain": [
       "<Figure size 432x288 with 1 Axes>"
      ]
     },
     "metadata": {
      "needs_background": "light"
     },
     "output_type": "display_data"
    }
   ],
   "source": [
    "cigs.plot(kind='scatter', x='CO', y='tar')"
   ]
  },
  {
   "cell_type": "markdown",
   "metadata": {},
   "source": [
    "Ik zou zeggen dat mijn verwachtingen wel redelijk overeen komen. Ik verwacht bij een hogere concentratie nicotine dat er ook direct meer CO en tar vrijkomt. Ik vond de correlaties daarom wel duidelijk en logisch."
   ]
  }
 ],
 "metadata": {
  "kernelspec": {
   "display_name": "Python 3 (ipykernel)",
   "language": "python",
   "name": "python3"
  },
  "language_info": {
   "codemirror_mode": {
    "name": "ipython",
    "version": 3
   },
   "file_extension": ".py",
   "mimetype": "text/x-python",
   "name": "python",
   "nbconvert_exporter": "python",
   "pygments_lexer": "ipython3",
   "version": "3.9.7"
  },
  "vscode": {
   "interpreter": {
    "hash": "ad2bdc8ecc057115af97d19610ffacc2b4e99fae6737bb82f5d7fb13d2f2c186"
   }
  }
 },
 "nbformat": 4,
 "nbformat_minor": 2
}
